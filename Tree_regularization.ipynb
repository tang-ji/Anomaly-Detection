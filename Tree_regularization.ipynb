{
  "nbformat": 4,
  "nbformat_minor": 0,
  "metadata": {
    "colab": {
      "name": "Tree_regularization.ipynb",
      "version": "0.3.2",
      "provenance": [],
      "collapsed_sections": [],
      "toc_visible": true
    },
    "kernelspec": {
      "name": "python3",
      "display_name": "Python 3"
    }
  },
  "cells": [
    {
      "metadata": {
        "id": "sK4iOYXqdtwC",
        "colab_type": "text"
      },
      "cell_type": "markdown",
      "source": [
        "## ==========================================================\n",
        "## You should first upload tree_regularization.py and DataLoader.py in the left control bar\n",
        "## =========================================================="
      ]
    },
    {
      "metadata": {
        "id": "tYk0c25oY1iD",
        "colab_type": "text"
      },
      "cell_type": "markdown",
      "source": [
        "## Download and preprocess dataset"
      ]
    },
    {
      "metadata": {
        "id": "Z_NsTHD09coE",
        "colab_type": "code",
        "outputId": "dbf68cab-7a79-4def-acf4-2c0ef581bccb",
        "colab": {
          "base_uri": "https://localhost:8080/",
          "height": 343
        }
      },
      "cell_type": "code",
      "source": [
        "!pip install pydrive\n",
        "from pydrive.auth import GoogleAuth\n",
        "from pydrive.drive import GoogleDrive\n",
        "from google.colab import auth\n",
        "from oauth2client.client import GoogleCredentials\n",
        "import io\n",
        "import zipfile\n",
        "# Authenticate and create the PyDrive client.\n",
        "# This only needs to be done once per notebook.\n",
        "auth.authenticate_user()\n",
        "gauth = GoogleAuth()\n",
        "gauth.credentials = GoogleCredentials.get_application_default()\n",
        "drive = GoogleDrive(gauth)\n",
        "\n",
        "file = '1Nl59uCt3SeCMH891nwS6I3vJbDrVKXQm' #-- Updated File ID \n",
        "file2 = '1JIw9Kc2K7W_sJaMoZOavGicuf7qrPFBr'\n",
        "file3 = '1-P6lzpwyXxet37NwJCNhxm_dwZ22Gm42'"
      ],
      "execution_count": 1,
      "outputs": [
        {
          "output_type": "stream",
          "text": [
            "Collecting pydrive\n",
            "\u001b[?25l  Downloading https://files.pythonhosted.org/packages/52/e0/0e64788e5dd58ce2d6934549676243dc69d982f198524be9b99e9c2a4fd5/PyDrive-1.3.1.tar.gz (987kB)\n",
            "\u001b[K    100% |████████████████████████████████| 993kB 20.0MB/s \n",
            "\u001b[?25hRequirement already satisfied: google-api-python-client>=1.2 in /usr/local/lib/python3.6/dist-packages (from pydrive) (1.6.7)\n",
            "Requirement already satisfied: oauth2client>=4.0.0 in /usr/local/lib/python3.6/dist-packages (from pydrive) (4.1.3)\n",
            "Requirement already satisfied: PyYAML>=3.0 in /usr/local/lib/python3.6/dist-packages (from pydrive) (3.13)\n",
            "Requirement already satisfied: six<2dev,>=1.6.1 in /usr/local/lib/python3.6/dist-packages (from google-api-python-client>=1.2->pydrive) (1.11.0)\n",
            "Requirement already satisfied: httplib2<1dev,>=0.9.2 in /usr/local/lib/python3.6/dist-packages (from google-api-python-client>=1.2->pydrive) (0.11.3)\n",
            "Requirement already satisfied: uritemplate<4dev,>=3.0.0 in /usr/local/lib/python3.6/dist-packages (from google-api-python-client>=1.2->pydrive) (3.0.0)\n",
            "Requirement already satisfied: pyasn1-modules>=0.0.5 in /usr/local/lib/python3.6/dist-packages (from oauth2client>=4.0.0->pydrive) (0.2.4)\n",
            "Requirement already satisfied: pyasn1>=0.1.7 in /usr/local/lib/python3.6/dist-packages (from oauth2client>=4.0.0->pydrive) (0.4.5)\n",
            "Requirement already satisfied: rsa>=3.1.4 in /usr/local/lib/python3.6/dist-packages (from oauth2client>=4.0.0->pydrive) (4.0)\n",
            "Building wheels for collected packages: pydrive\n",
            "  Building wheel for pydrive (setup.py) ... \u001b[?25ldone\n",
            "\u001b[?25h  Stored in directory: /root/.cache/pip/wheels/fa/d2/9a/d3b6b506c2da98289e5d417215ce34b696db856643bad779f4\n",
            "Successfully built pydrive\n",
            "Installing collected packages: pydrive\n",
            "Successfully installed pydrive-1.3.1\n"
          ],
          "name": "stdout"
        }
      ]
    },
    {
      "metadata": {
        "id": "UH0Vix_tdq_x",
        "colab_type": "text"
      },
      "cell_type": "markdown",
      "source": [
        "## You need to click the link and get the authorization of Google drive in the box above"
      ]
    },
    {
      "metadata": {
        "id": "pyU6AsMIXSv3",
        "colab_type": "text"
      },
      "cell_type": "markdown",
      "source": [
        "Dataset unzip"
      ]
    },
    {
      "metadata": {
        "id": "S9gXAqGn9gw7",
        "colab_type": "code",
        "colab": {}
      },
      "cell_type": "code",
      "source": [
        "downloaded = drive.CreateFile({'id': file})\n",
        "downloaded.GetContentFile('zip.zip') \n",
        "!unzip -q 'zip.zip'\n",
        "downloaded = drive.CreateFile({'id': file2})\n",
        "downloaded.GetContentFile('zip.zip') \n",
        "!unzip -q 'zip.zip'\n",
        "downloaded = drive.CreateFile({'id': file3})\n",
        "downloaded.GetContentFile('zip.zip') \n",
        "!unzip -q 'zip.zip'"
      ],
      "execution_count": 0,
      "outputs": []
    },
    {
      "metadata": {
        "id": "xJBZHAmlXXdY",
        "colab_type": "text"
      },
      "cell_type": "markdown",
      "source": [
        "Set custom dataset path"
      ]
    },
    {
      "metadata": {
        "id": "iCcI2aZtLmGf",
        "colab_type": "code",
        "colab": {}
      },
      "cell_type": "code",
      "source": [
        "cpu_contention_path = 'cpu_contention/'\n",
        "input_rate_path = 'labeled_process_A/input_rate/'\n",
        "node_failure_path = 'labeled_process_A/node_failure/'"
      ],
      "execution_count": 0,
      "outputs": []
    },
    {
      "metadata": {
        "id": "tv062gSAXaAq",
        "colab_type": "text"
      },
      "cell_type": "markdown",
      "source": [
        "Loading data for 3 different abnormal types"
      ]
    },
    {
      "metadata": {
        "id": "0WaprgH2XiEc",
        "colab_type": "code",
        "colab": {
          "base_uri": "https://localhost:8080/",
          "height": 445
        },
        "outputId": "f0058955-ab52-479e-e466-6db0e5174707"
      },
      "cell_type": "code",
      "source": [
        "from DataLoader import DataLoader\n",
        "abnormal_cpu_contention, abnormal_input_rate, abnormal_node_failure, normal_cpu_contention, normal_input_rate, normal_node_failure = DataLoader(cpu_contention_path, input_rate_path, node_failure_path)"
      ],
      "execution_count": 5,
      "outputs": [
        {
          "output_type": "stream",
          "text": [
            "/content/DataLoader.py:31: FutureWarning: '.reindex_axis' is deprecated and will be removed in a future version. Use '.reindex' instead.\n",
            "  abnormal_cpu_contention = abnormal_cpu_contention.reindex_axis(header, axis=1)\n",
            "/content/DataLoader.py:33: FutureWarning: '.reindex_axis' is deprecated and will be removed in a future version. Use '.reindex' instead.\n",
            "  normal_cpu_contention = normal_cpu_contention.reindex_axis(header, axis=1)\n",
            "/content/DataLoader.py:45: FutureWarning: '.reindex_axis' is deprecated and will be removed in a future version. Use '.reindex' instead.\n",
            "  abnormal_input_rate = abnormal_input_rate.reindex_axis(header, axis=1)\n",
            "/content/DataLoader.py:47: FutureWarning: '.reindex_axis' is deprecated and will be removed in a future version. Use '.reindex' instead.\n",
            "  normal_input_rate = normal_input_rate.reindex_axis(header, axis=1)\n",
            "/content/DataLoader.py:59: FutureWarning: '.reindex_axis' is deprecated and will be removed in a future version. Use '.reindex' instead.\n",
            "  abnormal_node_failure = abnormal_node_failure.reindex_axis(header, axis=1)\n",
            "/content/DataLoader.py:61: FutureWarning: '.reindex_axis' is deprecated and will be removed in a future version. Use '.reindex' instead.\n",
            "  normal_node_failure = normal_node_failure.reindex_axis(header, axis=1)\n",
            "/content/DataLoader.py:31: FutureWarning: '.reindex_axis' is deprecated and will be removed in a future version. Use '.reindex' instead.\n",
            "  abnormal_cpu_contention = abnormal_cpu_contention.reindex_axis(header, axis=1)\n",
            "/content/DataLoader.py:33: FutureWarning: '.reindex_axis' is deprecated and will be removed in a future version. Use '.reindex' instead.\n",
            "  normal_cpu_contention = normal_cpu_contention.reindex_axis(header, axis=1)\n",
            "/content/DataLoader.py:45: FutureWarning: '.reindex_axis' is deprecated and will be removed in a future version. Use '.reindex' instead.\n",
            "  abnormal_input_rate = abnormal_input_rate.reindex_axis(header, axis=1)\n",
            "/content/DataLoader.py:47: FutureWarning: '.reindex_axis' is deprecated and will be removed in a future version. Use '.reindex' instead.\n",
            "  normal_input_rate = normal_input_rate.reindex_axis(header, axis=1)\n",
            "/content/DataLoader.py:59: FutureWarning: '.reindex_axis' is deprecated and will be removed in a future version. Use '.reindex' instead.\n",
            "  abnormal_node_failure = abnormal_node_failure.reindex_axis(header, axis=1)\n",
            "/content/DataLoader.py:61: FutureWarning: '.reindex_axis' is deprecated and will be removed in a future version. Use '.reindex' instead.\n",
            "  normal_node_failure = normal_node_failure.reindex_axis(header, axis=1)\n"
          ],
          "name": "stderr"
        }
      ]
    },
    {
      "metadata": {
        "id": "w8oAuHpIXkMO",
        "colab_type": "text"
      },
      "cell_type": "markdown",
      "source": [
        "Get samples for each abnormal type and normal type"
      ]
    },
    {
      "metadata": {
        "id": "9yBQhVc8-MXI",
        "colab_type": "code",
        "colab": {}
      },
      "cell_type": "code",
      "source": [
        "\n",
        "import pandas as pd\n",
        "import numpy as np\n",
        "abnormal = pd.concat((abnormal_cpu_contention.sample(n=2500), abnormal_input_rate.sample(n=2500), abnormal_node_failure))\n",
        "normal = pd.concat((normal_cpu_contention.sample(n=2500), normal_input_rate.sample(n=2500), normal_node_failure.sample(n=2500)))\n",
        "\n",
        "abnormal = abnormal.sample(frac=1)\n",
        "normal = normal.sample(frac=1)\n"
      ],
      "execution_count": 0,
      "outputs": []
    },
    {
      "metadata": {
        "id": "gKy0n1GvX0_J",
        "colab_type": "text"
      },
      "cell_type": "markdown",
      "source": [
        "Uncomment to set only two labels \"normal\" and \"abnormal\""
      ]
    },
    {
      "metadata": {
        "id": "MgU52lhKX9Mr",
        "colab_type": "code",
        "colab": {}
      },
      "cell_type": "code",
      "source": [
        "abnormal['label'] = 'abnormal'"
      ],
      "execution_count": 0,
      "outputs": []
    },
    {
      "metadata": {
        "id": "M5SwbGhkX_mx",
        "colab_type": "text"
      },
      "cell_type": "markdown",
      "source": [
        "Get custom data proportion"
      ]
    },
    {
      "metadata": {
        "id": "k0AuqYLN-OdY",
        "colab_type": "code",
        "colab": {}
      },
      "cell_type": "code",
      "source": [
        "df_test = pd.concat((abnormal.iloc[:250, :], normal.iloc[5000:7500, :]))\n",
        "df = pd.concat((abnormal.iloc[500:4500, :], normal.iloc[:4000, :]))"
      ],
      "execution_count": 0,
      "outputs": []
    },
    {
      "metadata": {
        "id": "N-8o6S2gYbuN",
        "colab_type": "text"
      },
      "cell_type": "markdown",
      "source": [
        "Shuffle and fill Nan value"
      ]
    },
    {
      "metadata": {
        "id": "LFqacYeSAt0p",
        "colab_type": "code",
        "colab": {}
      },
      "cell_type": "code",
      "source": [
        "df = df.sample(frac=1)\n",
        "df = df.fillna(value = 0)\n",
        "df_test = df_test.fillna(value = 0)"
      ],
      "execution_count": 0,
      "outputs": []
    },
    {
      "metadata": {
        "id": "KJEsjNEtZEha",
        "colab_type": "text"
      },
      "cell_type": "markdown",
      "source": [
        "Encode categories into numbers"
      ]
    },
    {
      "metadata": {
        "id": "VYHdJsmeAvtq",
        "colab_type": "code",
        "outputId": "ad15b261-9d04-40eb-b401-4fc6f6c34fff",
        "colab": {
          "base_uri": "https://localhost:8080/",
          "height": 34
        }
      },
      "cell_type": "code",
      "source": [
        "cat = set(df['label'])\n",
        "cat_index = dict(zip(cat, range(len(cat))))\n",
        "index_cat = dict(zip(range(len(cat)), cat))\n",
        "cat_index"
      ],
      "execution_count": 10,
      "outputs": [
        {
          "output_type": "execute_result",
          "data": {
            "text/plain": [
              "{'abnormal': 0, 'normal': 1}"
            ]
          },
          "metadata": {
            "tags": []
          },
          "execution_count": 10
        },
        {
          "output_type": "execute_result",
          "data": {
            "text/plain": [
              "{'abnormal': 0, 'normal': 1}"
            ]
          },
          "metadata": {
            "tags": []
          },
          "execution_count": 10
        }
      ]
    },
    {
      "metadata": {
        "id": "H_b1k3hhZMuI",
        "colab_type": "text"
      },
      "cell_type": "markdown",
      "source": [
        "Release RAM space"
      ]
    },
    {
      "metadata": {
        "id": "eFgJwPLWAymH",
        "colab_type": "code",
        "outputId": "8448b9cf-5e13-4c5d-da71-c32ddb6dc679",
        "colab": {
          "base_uri": "https://localhost:8080/",
          "height": 34
        }
      },
      "cell_type": "code",
      "source": [
        "import gc\n",
        "del abnormal_cpu_contention, abnormal_input_rate, abnormal_node_failure\n",
        "gc.collect()"
      ],
      "execution_count": 11,
      "outputs": [
        {
          "output_type": "execute_result",
          "data": {
            "text/plain": [
              "47"
            ]
          },
          "metadata": {
            "tags": []
          },
          "execution_count": 11
        },
        {
          "output_type": "execute_result",
          "data": {
            "text/plain": [
              "47"
            ]
          },
          "metadata": {
            "tags": []
          },
          "execution_count": 11
        }
      ]
    },
    {
      "metadata": {
        "id": "YnttNIbbZuiW",
        "colab_type": "text"
      },
      "cell_type": "markdown",
      "source": [
        "Drop columns \"t\", \"comment\" and \"label\""
      ]
    },
    {
      "metadata": {
        "id": "AN_K_oPsAz60",
        "colab_type": "code",
        "colab": {}
      },
      "cell_type": "code",
      "source": [
        "Y = np.array(df['label'].map(lambda x: cat_index[x]))\n",
        "df = df.drop(['t', 'label', 'comment'], axis=1)\n",
        "Y_test = np.array(df_test['label'].map(lambda x: cat_index[x]))\n",
        "df_test = df_test.drop(['t', 'label', 'comment'], axis=1)"
      ],
      "execution_count": 0,
      "outputs": []
    },
    {
      "metadata": {
        "id": "G5CuLCNIZzW_",
        "colab_type": "text"
      },
      "cell_type": "markdown",
      "source": [
        "Value scaling"
      ]
    },
    {
      "metadata": {
        "id": "6d0FFHeUZ10Y",
        "colab_type": "code",
        "colab": {}
      },
      "cell_type": "code",
      "source": [
        "from sklearn.preprocessing import MinMaxScaler\n",
        "scaler = MinMaxScaler()\n",
        "X = scaler.fit_transform(df)\n",
        "X_test = scaler.transform(df_test)"
      ],
      "execution_count": 0,
      "outputs": []
    },
    {
      "metadata": {
        "id": "OSFkq3UiaYIg",
        "colab_type": "text"
      },
      "cell_type": "markdown",
      "source": [
        "Uncomment to use RandomOverSampler\n",
        "\n",
        "* If we don't use this and our training set is not blance, our model is going to \"cheat\" --- Always predicting normal to get good score"
      ]
    },
    {
      "metadata": {
        "id": "oc5IIYtbQnsy",
        "colab_type": "code",
        "colab": {}
      },
      "cell_type": "code",
      "source": [
        "from imblearn.over_sampling import RandomOverSampler\n",
        "ros = RandomOverSampler(random_state=0)\n",
        "X, Y = ros.fit_resample(X, Y)"
      ],
      "execution_count": 0,
      "outputs": []
    },
    {
      "metadata": {
        "id": "xX3yD8mqnZWn",
        "colab_type": "text"
      },
      "cell_type": "markdown",
      "source": [
        "Transform to one hot vectors"
      ]
    },
    {
      "metadata": {
        "id": "BFtjPfdknYTT",
        "colab_type": "code",
        "colab": {}
      },
      "cell_type": "code",
      "source": [
        "Y = np.eye(len(cat))[Y.reshape(-1)]\n",
        "Y_test = np.eye(len(cat))[Y_test.reshape(-1)]"
      ],
      "execution_count": 0,
      "outputs": []
    },
    {
      "metadata": {
        "id": "Gti3c1FcA-Ll",
        "colab_type": "code",
        "outputId": "f51d484e-0e00-4162-f314-2b7d91b1b83b",
        "colab": {
          "base_uri": "https://localhost:8080/",
          "height": 34
        }
      },
      "cell_type": "code",
      "source": [
        "len(X_test)"
      ],
      "execution_count": 15,
      "outputs": [
        {
          "output_type": "execute_result",
          "data": {
            "text/plain": [
              "2750"
            ]
          },
          "metadata": {
            "tags": []
          },
          "execution_count": 15
        },
        {
          "output_type": "execute_result",
          "data": {
            "text/plain": [
              "2750"
            ]
          },
          "metadata": {
            "tags": []
          },
          "execution_count": 15
        }
      ]
    },
    {
      "metadata": {
        "id": "C9hFtV4aeoT2",
        "colab_type": "text"
      },
      "cell_type": "markdown",
      "source": [
        "## Tree regularization"
      ]
    },
    {
      "metadata": {
        "id": "2A3oiHwwfr_R",
        "colab_type": "text"
      },
      "cell_type": "markdown",
      "source": [
        "class TreeMLP(in_count, out_count, hidden_sizes, strength)\n",
        "\n",
        "in_count: input shape\n",
        "\n",
        "out_count: output shape\n",
        "\n",
        "hidden_sizes: surrogate network's structure\n",
        "\n",
        "strength: regularization strengh\n",
        "\n",
        "APL_mode: \n",
        "\n",
        "0 - implemented by paper's source code\n",
        "\n",
        "1 - implemented by its definition"
      ]
    },
    {
      "metadata": {
        "id": "rLHkXKzCHeHw",
        "colab_type": "code",
        "colab": {}
      },
      "cell_type": "code",
      "source": [
        "from tree_regularization import *\n",
        "APL_mode = 0\n",
        "t = TreeMLP(X.shape[1], len(cat), [20, 50, 50, 50], strength=0.01, APL_mode=APL_mode)"
      ],
      "execution_count": 0,
      "outputs": []
    },
    {
      "metadata": {
        "id": "TV5t1Bl3h18I",
        "colab_type": "text"
      },
      "cell_type": "markdown",
      "source": [
        "For the next cell, the tree regularization network will take at least 1 hour to get stable prediction"
      ]
    },
    {
      "metadata": {
        "id": "fjS8ggaagM2_",
        "colab_type": "code",
        "colab": {
          "base_uri": "https://localhost:8080/",
          "height": 8569
        },
        "outputId": "7b1f8bbd-d99c-4200-cf2b-c227a6f0a6df"
      },
      "cell_type": "code",
      "source": [
        "t.train(X, Y, batch_size=128, iters_retrain=5, epochs_sur=20, epochs_mlp=4, feature_names=list(df.columns.values), validation_data=(X_test, Y_test), class_names=list(cat_index.keys()))"
      ],
      "execution_count": 64,
      "outputs": [
        {
          "output_type": "stream",
          "text": [
            "training MLP net... [1/3]\n",
            "Train on 8000 samples, validate on 2750 samples\n",
            "Epoch 1/10\n",
            "8000/8000 [==============================] - 3s 360us/step - loss: 0.7039 - acc: 0.5042 - val_loss: 0.7629 - val_acc: 0.0909\n",
            "Epoch 2/10\n",
            "8000/8000 [==============================] - 1s 77us/step - loss: 0.6889 - acc: 0.5970 - val_loss: 0.6883 - val_acc: 0.6360\n",
            "Epoch 3/10\n",
            "8000/8000 [==============================] - 1s 74us/step - loss: 0.5699 - acc: 0.7622 - val_loss: 0.3637 - val_acc: 0.9062\n",
            "Epoch 4/10\n",
            "8000/8000 [==============================] - 1s 74us/step - loss: 0.4193 - acc: 0.8366 - val_loss: 0.3437 - val_acc: 0.9004\n",
            "Epoch 5/10\n",
            "8000/8000 [==============================] - 1s 74us/step - loss: 0.3867 - acc: 0.8574 - val_loss: 0.3863 - val_acc: 0.8807\n",
            "Epoch 6/10\n",
            "8000/8000 [==============================] - 1s 79us/step - loss: 0.3572 - acc: 0.8718 - val_loss: 0.3016 - val_acc: 0.9120\n",
            "Epoch 7/10\n",
            "8000/8000 [==============================] - 1s 78us/step - loss: 0.3510 - acc: 0.8749 - val_loss: 0.3783 - val_acc: 0.8815\n",
            "Epoch 8/10\n",
            "8000/8000 [==============================] - 1s 77us/step - loss: 0.3312 - acc: 0.8860 - val_loss: 0.3100 - val_acc: 0.9120\n",
            "Epoch 9/10\n",
            " 128/8000 [..............................] - ETA: 0s - loss: 0.4122 - acc: 0.8438 APL:14.51\n",
            " 256/8000 [..............................] - ETA: 2:22 - loss: 0.2878 - acc: 0.8984 APL:14.61\n",
            " 384/8000 [>.............................] - ETA: 2:53 - loss: 0.2973 - acc: 0.9036 APL:14.63\n",
            " 512/8000 [>.............................] - ETA: 3:06 - loss: 0.3175 - acc: 0.8906 APL:14.21\n",
            " 640/8000 [=>............................] - ETA: 3:11 - loss: 0.3129 - acc: 0.8922 APL:14.50\n",
            " 768/8000 [=>............................] - ETA: 3:14 - loss: 0.3238 - acc: 0.8867 APL:14.69\n",
            " 896/8000 [==>...........................] - ETA: 3:14 - loss: 0.3101 - acc: 0.8929 APL:14.47\n",
            "1024/8000 [==>...........................] - ETA: 3:14 - loss: 0.3021 - acc: 0.8955 APL:14.21\n",
            "1152/8000 [===>..........................] - ETA: 3:12 - loss: 0.3054 - acc: 0.8958 APL:14.60\n",
            "1280/8000 [===>..........................] - ETA: 3:10 - loss: 0.3082 - acc: 0.8961 APL:14.60\n",
            "1408/8000 [====>.........................] - ETA: 3:08 - loss: 0.3129 - acc: 0.8942 APL:14.64\n",
            "1536/8000 [====>.........................] - ETA: 3:05 - loss: 0.3155 - acc: 0.8926 APL:14.17\n",
            "1664/8000 [=====>........................] - ETA: 3:02 - loss: 0.3141 - acc: 0.8924 APL:14.47\n",
            "1792/8000 [=====>........................] - ETA: 2:59 - loss: 0.3128 - acc: 0.8917 APL:14.47\n",
            "1920/8000 [======>.......................] - ETA: 2:56 - loss: 0.3165 - acc: 0.8891 APL:14.46\n",
            "2048/8000 [======>.......................] - ETA: 2:53 - loss: 0.3131 - acc: 0.8911 APL:14.62\n",
            "2176/8000 [=======>......................] - ETA: 2:50 - loss: 0.3101 - acc: 0.8925 APL:14.81\n",
            "2304/8000 [=======>......................] - ETA: 2:46 - loss: 0.3124 - acc: 0.8919 APL:14.60\n",
            "2432/8000 [========>.....................] - ETA: 2:43 - loss: 0.3108 - acc: 0.8927 APL:14.59\n",
            "2560/8000 [========>.....................] - ETA: 2:40 - loss: 0.3084 - acc: 0.8934 APL:14.45\n",
            "2688/8000 [=========>....................] - ETA: 2:36 - loss: 0.3067 - acc: 0.8943 APL:14.43\n",
            "2816/8000 [=========>....................] - ETA: 2:33 - loss: 0.3082 - acc: 0.8942 APL:14.43\n",
            "2944/8000 [==========>...................] - ETA: 2:29 - loss: 0.3087 - acc: 0.8940 APL:14.61\n",
            "3072/8000 [==========>...................] - ETA: 2:26 - loss: 0.3047 - acc: 0.8962 APL:14.61\n",
            "3200/8000 [===========>..................] - ETA: 2:22 - loss: 0.3033 - acc: 0.8969 APL:14.59\n",
            "3328/8000 [===========>..................] - ETA: 2:18 - loss: 0.3064 - acc: 0.8963 APL:14.61\n",
            "3456/8000 [===========>..................] - ETA: 2:15 - loss: 0.3077 - acc: 0.8961 APL:14.55\n",
            "3584/8000 [============>.................] - ETA: 2:11 - loss: 0.3062 - acc: 0.8968 APL:14.58\n",
            "3712/8000 [============>.................] - ETA: 2:07 - loss: 0.3035 - acc: 0.8976 APL:14.62\n",
            "3840/8000 [=============>................] - ETA: 2:04 - loss: 0.3056 - acc: 0.8964 APL:14.67\n",
            "3968/8000 [=============>................] - ETA: 2:00 - loss: 0.3075 - acc: 0.8954 APL:14.62\n",
            "4096/8000 [==============>...............] - ETA: 1:56 - loss: 0.3046 - acc: 0.8970 APL:14.88\n",
            "4224/8000 [==============>...............] - ETA: 1:52 - loss: 0.3013 - acc: 0.8975 APL:14.61\n",
            "4352/8000 [===============>..............] - ETA: 1:49 - loss: 0.3004 - acc: 0.8980 APL:14.58\n",
            "4480/8000 [===============>..............] - ETA: 1:45 - loss: 0.3046 - acc: 0.8964 APL:14.21\n",
            "4608/8000 [================>.............] - ETA: 1:42 - loss: 0.3028 - acc: 0.8974 APL:14.61\n",
            "4736/8000 [================>.............] - ETA: 1:38 - loss: 0.3014 - acc: 0.8986 APL:14.61\n",
            "4864/8000 [=================>............] - ETA: 1:34 - loss: 0.3054 - acc: 0.8968 APL:14.61\n",
            "4992/8000 [=================>............] - ETA: 1:30 - loss: 0.3069 - acc: 0.8958 APL:14.60\n",
            "5120/8000 [==================>...........] - ETA: 1:26 - loss: 0.3065 - acc: 0.8957 APL:14.60\n",
            "5248/8000 [==================>...........] - ETA: 1:23 - loss: 0.3078 - acc: 0.8948 APL:14.60\n",
            "5376/8000 [===================>..........] - ETA: 1:19 - loss: 0.3073 - acc: 0.8955 APL:14.61\n",
            "5504/8000 [===================>..........] - ETA: 1:15 - loss: 0.3076 - acc: 0.8948 APL:14.21\n",
            "5632/8000 [====================>.........] - ETA: 1:11 - loss: 0.3086 - acc: 0.8947 APL:14.48\n",
            "5760/8000 [====================>.........] - ETA: 1:07 - loss: 0.3086 - acc: 0.8946 APL:12.21\n",
            "5888/8000 [=====================>........] - ETA: 1:03 - loss: 0.3083 - acc: 0.8945 APL:14.47\n",
            "6016/8000 [=====================>........] - ETA: 59s - loss: 0.3079 - acc: 0.8943  APL:14.60\n",
            "6144/8000 [======================>.......] - ETA: 56s - loss: 0.3071 - acc: 0.8944 APL:14.60\n",
            "6272/8000 [======================>.......] - ETA: 52s - loss: 0.3074 - acc: 0.8943 APL:14.61\n",
            "6400/8000 [=======================>......] - ETA: 48s - loss: 0.3085 - acc: 0.8938 APL:14.21\n",
            "6528/8000 [=======================>......] - ETA: 44s - loss: 0.3087 - acc: 0.8934 APL:14.43\n",
            "6656/8000 [=======================>......] - ETA: 40s - loss: 0.3077 - acc: 0.8938 APL:14.80\n",
            "6784/8000 [========================>.....] - ETA: 36s - loss: 0.3076 - acc: 0.8936 APL:14.74\n",
            "6912/8000 [========================>.....] - ETA: 33s - loss: 0.3067 - acc: 0.8940 APL:14.24\n",
            "7040/8000 [=========================>....] - ETA: 29s - loss: 0.3084 - acc: 0.8936 APL:14.62\n",
            "7168/8000 [=========================>....] - ETA: 25s - loss: 0.3075 - acc: 0.8944 APL:14.24\n",
            "7296/8000 [==========================>...] - ETA: 21s - loss: 0.3087 - acc: 0.8942 APL:14.25\n",
            "7424/8000 [==========================>...] - ETA: 17s - loss: 0.3077 - acc: 0.8948 APL:14.22\n",
            "7552/8000 [===========================>..] - ETA: 13s - loss: 0.3074 - acc: 0.8953 APL:14.62\n",
            "7680/8000 [===========================>..] - ETA: 9s - loss: 0.3080 - acc: 0.8948  APL:14.86\n",
            "7808/8000 [============================>.] - ETA: 5s - loss: 0.3071 - acc: 0.8955 APL:14.56\n",
            "7936/8000 [============================>.] - ETA: 1s - loss: 0.3067 - acc: 0.8957 APL:14.61\n",
            " APL:13.15\n",
            "8000/8000 [==============================] - 249s 31ms/step - loss: 0.3080 - acc: 0.8949 - val_loss: 0.2424 - val_acc: 0.9320\n",
            "Epoch 10/10\n",
            " 128/8000 [..............................] - ETA: 0s - loss: 0.3343 - acc: 0.8672 APL:12.75\n",
            " 256/8000 [..............................] - ETA: 1:53 - loss: 0.3051 - acc: 0.8945 APL:14.79\n",
            " 384/8000 [>.............................] - ETA: 2:32 - loss: 0.3189 - acc: 0.8906 APL:14.62\n",
            " 512/8000 [>.............................] - ETA: 2:49 - loss: 0.3244 - acc: 0.8887 APL:14.45\n",
            " 640/8000 [=>............................] - ETA: 2:58 - loss: 0.3180 - acc: 0.8891 APL:14.48\n",
            " 768/8000 [=>............................] - ETA: 3:02 - loss: 0.3093 - acc: 0.8867 APL:14.65\n",
            " 896/8000 [==>...........................] - ETA: 3:05 - loss: 0.2986 - acc: 0.8906 APL:14.63\n",
            "1024/8000 [==>...........................] - ETA: 3:06 - loss: 0.2887 - acc: 0.8975 APL:14.29\n",
            "1152/8000 [===>..........................] - ETA: 3:05 - loss: 0.2772 - acc: 0.9062 APL:13.15\n",
            "1280/8000 [===>..........................] - ETA: 3:04 - loss: 0.2824 - acc: 0.9062 APL:13.15\n",
            "1408/8000 [====>.........................] - ETA: 3:01 - loss: 0.2756 - acc: 0.9077 APL:13.87\n",
            "1536/8000 [====>.........................] - ETA: 3:00 - loss: 0.2843 - acc: 0.9043 APL:14.60\n",
            "1664/8000 [=====>........................] - ETA: 2:58 - loss: 0.2857 - acc: 0.9050 APL:13.75\n",
            "1792/8000 [=====>........................] - ETA: 2:55 - loss: 0.2833 - acc: 0.9062 APL:13.72\n",
            "1920/8000 [======>.......................] - ETA: 2:52 - loss: 0.2834 - acc: 0.9062 APL:13.73\n",
            "2048/8000 [======>.......................] - ETA: 2:49 - loss: 0.2861 - acc: 0.9053 APL:14.60\n",
            "2176/8000 [=======>......................] - ETA: 2:46 - loss: 0.2883 - acc: 0.9040 APL:12.60\n",
            "2304/8000 [=======>......................] - ETA: 2:43 - loss: 0.2904 - acc: 0.9032 APL:12.66\n",
            "2432/8000 [========>.....................] - ETA: 2:40 - loss: 0.2875 - acc: 0.9038 APL:12.61\n",
            "2560/8000 [========>.....................] - ETA: 2:37 - loss: 0.2816 - acc: 0.9055 APL:14.62\n",
            "2688/8000 [=========>....................] - ETA: 2:33 - loss: 0.2807 - acc: 0.9055 APL:14.77\n",
            "2816/8000 [=========>....................] - ETA: 2:30 - loss: 0.2812 - acc: 0.9059 APL:14.74\n",
            "2944/8000 [==========>...................] - ETA: 2:27 - loss: 0.2840 - acc: 0.9052 APL:14.60\n",
            "3072/8000 [==========>...................] - ETA: 2:23 - loss: 0.2819 - acc: 0.9066 APL:13.74\n",
            "3200/8000 [===========>..................] - ETA: 2:20 - loss: 0.2862 - acc: 0.9050 APL:12.67\n",
            "3328/8000 [===========>..................] - ETA: 2:16 - loss: 0.2868 - acc: 0.9047 APL:12.78\n",
            "3456/8000 [===========>..................] - ETA: 2:12 - loss: 0.2896 - acc: 0.9031 APL:12.68\n",
            "3584/8000 [============>.................] - ETA: 2:09 - loss: 0.2897 - acc: 0.9035 APL:14.60\n",
            "3712/8000 [============>.................] - ETA: 2:05 - loss: 0.2874 - acc: 0.9044 APL:14.73\n",
            "3840/8000 [=============>................] - ETA: 2:02 - loss: 0.2869 - acc: 0.9039 APL:13.72\n",
            "3968/8000 [=============>................] - ETA: 1:58 - loss: 0.2873 - acc: 0.9035 APL:14.63\n",
            "4096/8000 [==============>...............] - ETA: 1:54 - loss: 0.2878 - acc: 0.9036 APL:12.66\n",
            "4224/8000 [==============>...............] - ETA: 1:51 - loss: 0.2873 - acc: 0.9032 APL:12.68\n",
            "4352/8000 [===============>..............] - ETA: 1:47 - loss: 0.2873 - acc: 0.9023 APL:14.51\n",
            "4480/8000 [===============>..............] - ETA: 1:43 - loss: 0.2882 - acc: 0.9013 APL:12.66\n",
            "4608/8000 [================>.............] - ETA: 1:40 - loss: 0.2885 - acc: 0.9010 APL:14.64\n",
            "4736/8000 [================>.............] - ETA: 1:36 - loss: 0.2877 - acc: 0.9005 APL:14.62\n",
            "4864/8000 [=================>............] - ETA: 1:32 - loss: 0.2892 - acc: 0.8995 APL:14.59\n",
            "4992/8000 [=================>............] - ETA: 1:29 - loss: 0.2893 - acc: 0.9000 APL:14.56\n",
            "5120/8000 [==================>...........] - ETA: 1:25 - loss: 0.2909 - acc: 0.8990 APL:12.97\n",
            "5248/8000 [==================>...........] - ETA: 1:21 - loss: 0.2912 - acc: 0.8992 APL:13.13\n",
            "5376/8000 [===================>..........] - ETA: 1:17 - loss: 0.2933 - acc: 0.8981 APL:13.13\n",
            "5504/8000 [===================>..........] - ETA: 1:13 - loss: 0.2960 - acc: 0.8972 APL:12.97\n",
            "5632/8000 [====================>.........] - ETA: 1:10 - loss: 0.2969 - acc: 0.8965 APL:14.62\n",
            "5760/8000 [====================>.........] - ETA: 1:06 - loss: 0.2963 - acc: 0.8967 APL:13.00\n",
            "5888/8000 [=====================>........] - ETA: 1:02 - loss: 0.2948 - acc: 0.8972 APL:13.13\n",
            "6016/8000 [=====================>........] - ETA: 58s - loss: 0.2971 - acc: 0.8963  APL:12.69\n",
            "6144/8000 [======================>.......] - ETA: 55s - loss: 0.2990 - acc: 0.8952 APL:12.69\n",
            "6272/8000 [======================>.......] - ETA: 51s - loss: 0.2992 - acc: 0.8959 APL:12.69\n",
            "6400/8000 [=======================>......] - ETA: 47s - loss: 0.2992 - acc: 0.8962 APL:14.30\n",
            "6528/8000 [=======================>......] - ETA: 43s - loss: 0.3006 - acc: 0.8952 APL:13.76\n",
            "6656/8000 [=======================>......] - ETA: 39s - loss: 0.2995 - acc: 0.8959 APL:14.56\n",
            "6784/8000 [========================>.....] - ETA: 36s - loss: 0.3000 - acc: 0.8958 APL:14.56\n",
            "6912/8000 [========================>.....] - ETA: 32s - loss: 0.3003 - acc: 0.8955 APL:13.74\n",
            "7040/8000 [=========================>....] - ETA: 28s - loss: 0.3011 - acc: 0.8952 APL:14.26\n",
            "7168/8000 [=========================>....] - ETA: 24s - loss: 0.2997 - acc: 0.8955 APL:14.24\n",
            "7296/8000 [==========================>...] - ETA: 20s - loss: 0.2996 - acc: 0.8951 APL:13.77\n",
            "7424/8000 [==========================>...] - ETA: 17s - loss: 0.2986 - acc: 0.8956 APL:14.60\n",
            "7552/8000 [===========================>..] - ETA: 13s - loss: 0.2977 - acc: 0.8961 APL:14.63\n",
            "7680/8000 [===========================>..] - ETA: 9s - loss: 0.2964 - acc: 0.8969  APL:14.62\n",
            "7808/8000 [============================>.] - ETA: 5s - loss: 0.2953 - acc: 0.8974 APL:14.62\n",
            "7936/8000 [============================>.] - ETA: 1s - loss: 0.2932 - acc: 0.8984 APL:12.69\n",
            " APL:12.86\n",
            "8000/8000 [==============================] - 245s 31ms/step - loss: 0.2928 - acc: 0.8988 - val_loss: 0.2617 - val_acc: 0.9225\n",
            "training surrogate net... [1/3]\n",
            "Epoch 1/20\n",
            "126/126 [==============================] - 4s 31ms/step - loss: 124.4973 - mean_squared_error: 124.4636\n",
            "Epoch 2/20\n",
            "126/126 [==============================] - 1s 8ms/step - loss: 78.0648 - mean_squared_error: 78.0252\n",
            "Epoch 3/20\n",
            "126/126 [==============================] - 1s 8ms/step - loss: 50.1834 - mean_squared_error: 50.1399\n",
            "Epoch 4/20\n",
            "126/126 [==============================] - 1s 8ms/step - loss: 34.6737 - mean_squared_error: 34.6280\n",
            "Epoch 5/20\n",
            "126/126 [==============================] - 1s 8ms/step - loss: 25.1204 - mean_squared_error: 25.0737\n",
            "Epoch 6/20\n",
            "126/126 [==============================] - 1s 7ms/step - loss: 19.1910 - mean_squared_error: 19.1438\n",
            "Epoch 7/20\n",
            "126/126 [==============================] - 1s 7ms/step - loss: 15.0254 - mean_squared_error: 14.9779\n",
            "Epoch 8/20\n",
            "126/126 [==============================] - 1s 7ms/step - loss: 11.9342 - mean_squared_error: 11.8868\n",
            "Epoch 9/20\n",
            "126/126 [==============================] - 1s 7ms/step - loss: 9.5557 - mean_squared_error: 9.5083\n",
            "Epoch 10/20\n",
            "126/126 [==============================] - 1s 7ms/step - loss: 7.6353 - mean_squared_error: 7.5880\n",
            "Epoch 11/20\n",
            "126/126 [==============================] - 1s 7ms/step - loss: 6.0997 - mean_squared_error: 6.0524\n",
            "Epoch 12/20\n",
            "126/126 [==============================] - 1s 7ms/step - loss: 4.8454 - mean_squared_error: 4.7983\n",
            "Epoch 13/20\n",
            "126/126 [==============================] - 1s 7ms/step - loss: 3.8824 - mean_squared_error: 3.8354\n",
            "Epoch 14/20\n",
            "126/126 [==============================] - 1s 7ms/step - loss: 3.0914 - mean_squared_error: 3.0445\n",
            "Epoch 15/20\n",
            "126/126 [==============================] - 1s 7ms/step - loss: 2.4767 - mean_squared_error: 2.4299\n",
            "Epoch 16/20\n",
            "126/126 [==============================] - 1s 7ms/step - loss: 2.0084 - mean_squared_error: 1.9617\n",
            "Epoch 17/20\n",
            "126/126 [==============================] - 1s 7ms/step - loss: 1.6252 - mean_squared_error: 1.5787\n",
            "Epoch 18/20\n",
            "126/126 [==============================] - 1s 7ms/step - loss: 1.3442 - mean_squared_error: 1.2978\n",
            "Epoch 19/20\n",
            "126/126 [==============================] - 1s 7ms/step - loss: 1.1204 - mean_squared_error: 1.0742\n",
            "Epoch 20/20\n",
            "126/126 [==============================] - 1s 7ms/step - loss: 0.9666 - mean_squared_error: 0.9205\n",
            "training MLP net... [2/3]\n",
            "Train on 8000 samples, validate on 2750 samples\n",
            "Epoch 1/10\n",
            "8000/8000 [==============================] - 3s 366us/step - loss: 0.4077 - acc: 0.9018 - val_loss: 0.3303 - val_acc: 0.9404\n",
            "Epoch 2/10\n",
            "8000/8000 [==============================] - 1s 69us/step - loss: 0.3945 - acc: 0.9048 - val_loss: 0.3243 - val_acc: 0.9455\n",
            "Epoch 3/10\n",
            "8000/8000 [==============================] - 1s 70us/step - loss: 0.3608 - acc: 0.9173 - val_loss: 0.2977 - val_acc: 0.9495\n",
            "Epoch 4/10\n",
            "8000/8000 [==============================] - 1s 71us/step - loss: 0.3402 - acc: 0.9246 - val_loss: 0.4225 - val_acc: 0.9000\n",
            "Epoch 5/10\n",
            "8000/8000 [==============================] - 1s 67us/step - loss: 0.3277 - acc: 0.9281 - val_loss: 0.3155 - val_acc: 0.9444\n",
            "Epoch 6/10\n",
            "8000/8000 [==============================] - 1s 69us/step - loss: 0.3042 - acc: 0.9376 - val_loss: 0.2993 - val_acc: 0.9465\n",
            "Epoch 7/10\n",
            "8000/8000 [==============================] - 1s 68us/step - loss: 0.2797 - acc: 0.9504 - val_loss: 0.2505 - val_acc: 0.9658\n",
            "Epoch 8/10\n",
            "8000/8000 [==============================] - 1s 68us/step - loss: 0.2641 - acc: 0.9554 - val_loss: 0.2565 - val_acc: 0.9618\n",
            "Epoch 9/10\n",
            " 128/8000 [..............................] - ETA: 0s - loss: 0.2481 - acc: 0.9531 APL:14.67\n",
            " 256/8000 [..............................] - ETA: 2:22 - loss: 0.2542 - acc: 0.9570 APL:12.84\n",
            " 384/8000 [>.............................] - ETA: 2:47 - loss: 0.2438 - acc: 0.9609 APL:13.12\n",
            " 512/8000 [>.............................] - ETA: 2:58 - loss: 0.2431 - acc: 0.9609 APL:14.12\n",
            " 640/8000 [=>............................] - ETA: 3:03 - loss: 0.2439 - acc: 0.9594 APL:12.84\n",
            " 768/8000 [=>............................] - ETA: 3:05 - loss: 0.2378 - acc: 0.9648 APL:14.34\n",
            " 896/8000 [==>...........................] - ETA: 3:07 - loss: 0.2477 - acc: 0.9632 APL:15.05\n",
            "1024/8000 [==>...........................] - ETA: 3:07 - loss: 0.2522 - acc: 0.9600 APL:14.36\n",
            "1152/8000 [===>..........................] - ETA: 3:06 - loss: 0.2560 - acc: 0.9592 APL:14.61\n",
            "1280/8000 [===>..........................] - ETA: 3:05 - loss: 0.2542 - acc: 0.9594 APL:11.89\n",
            "1408/8000 [====>.........................] - ETA: 3:02 - loss: 0.2616 - acc: 0.9567 APL:12.85\n",
            "1536/8000 [====>.........................] - ETA: 2:59 - loss: 0.2623 - acc: 0.9557 APL:12.86\n",
            "1664/8000 [=====>........................] - ETA: 2:56 - loss: 0.2605 - acc: 0.9561 APL:14.68\n",
            "1792/8000 [=====>........................] - ETA: 2:54 - loss: 0.2650 - acc: 0.9542 APL:14.39\n",
            "1920/8000 [======>.......................] - ETA: 2:51 - loss: 0.2673 - acc: 0.9547 APL:14.40\n",
            "2048/8000 [======>.......................] - ETA: 2:48 - loss: 0.2653 - acc: 0.9551 APL:14.98\n",
            "2176/8000 [=======>......................] - ETA: 2:46 - loss: 0.2633 - acc: 0.9563 APL:14.70\n",
            "2304/8000 [=======>......................] - ETA: 2:42 - loss: 0.2628 - acc: 0.9566 APL:12.86\n",
            "2432/8000 [========>.....................] - ETA: 2:39 - loss: 0.2593 - acc: 0.9589 APL:12.85\n",
            "2560/8000 [========>.....................] - ETA: 2:35 - loss: 0.2573 - acc: 0.9594 APL:12.84\n",
            "2688/8000 [=========>....................] - ETA: 2:32 - loss: 0.2565 - acc: 0.9598 APL:12.84\n",
            "2816/8000 [=========>....................] - ETA: 2:28 - loss: 0.2548 - acc: 0.9609 APL:12.84\n",
            "2944/8000 [==========>...................] - ETA: 2:25 - loss: 0.2556 - acc: 0.9606 APL:12.84\n",
            "3072/8000 [==========>...................] - ETA: 2:21 - loss: 0.2556 - acc: 0.9600 APL:14.12\n",
            "3200/8000 [===========>..................] - ETA: 2:17 - loss: 0.2545 - acc: 0.9606 APL:13.36\n",
            "3328/8000 [===========>..................] - ETA: 2:14 - loss: 0.2570 - acc: 0.9588 APL:12.78\n",
            "3456/8000 [===========>..................] - ETA: 2:10 - loss: 0.2560 - acc: 0.9586 APL:14.35\n",
            "3584/8000 [============>.................] - ETA: 2:07 - loss: 0.2579 - acc: 0.9573 APL:14.58\n",
            "3712/8000 [============>.................] - ETA: 2:03 - loss: 0.2584 - acc: 0.9574 APL:14.57\n",
            "3840/8000 [=============>................] - ETA: 2:00 - loss: 0.2584 - acc: 0.9573 APL:14.53\n",
            "3968/8000 [=============>................] - ETA: 1:56 - loss: 0.2604 - acc: 0.9569 APL:13.17\n",
            "4096/8000 [==============>...............] - ETA: 1:52 - loss: 0.2619 - acc: 0.9561 APL:13.21\n",
            "4224/8000 [==============>...............] - ETA: 1:49 - loss: 0.2608 - acc: 0.9567 APL:13.15\n",
            "4352/8000 [===============>..............] - ETA: 1:45 - loss: 0.2600 - acc: 0.9573 APL:12.80\n",
            "4480/8000 [===============>..............] - ETA: 1:42 - loss: 0.2616 - acc: 0.9569 APL:15.11\n",
            "4608/8000 [================>.............] - ETA: 1:38 - loss: 0.2646 - acc: 0.9555 APL:14.51\n",
            "4736/8000 [================>.............] - ETA: 1:34 - loss: 0.2629 - acc: 0.9561 APL:14.57\n",
            "4864/8000 [=================>............] - ETA: 1:31 - loss: 0.2611 - acc: 0.9566 APL:13.16\n",
            "4992/8000 [=================>............] - ETA: 1:27 - loss: 0.2617 - acc: 0.9563 APL:13.16\n",
            "5120/8000 [==================>...........] - ETA: 1:24 - loss: 0.2625 - acc: 0.9564 APL:12.80\n",
            "5248/8000 [==================>...........] - ETA: 1:20 - loss: 0.2635 - acc: 0.9560 APL:12.85\n",
            "5376/8000 [===================>..........] - ETA: 1:16 - loss: 0.2644 - acc: 0.9557 APL:14.63\n",
            "5504/8000 [===================>..........] - ETA: 1:12 - loss: 0.2640 - acc: 0.9560 APL:14.64\n",
            "5632/8000 [====================>.........] - ETA: 1:09 - loss: 0.2638 - acc: 0.9560 APL:14.63\n",
            "5760/8000 [====================>.........] - ETA: 1:05 - loss: 0.2624 - acc: 0.9564 APL:14.61\n",
            "5888/8000 [=====================>........] - ETA: 1:01 - loss: 0.2628 - acc: 0.9564 APL:14.36\n",
            "6016/8000 [=====================>........] - ETA: 58s - loss: 0.2615 - acc: 0.9568  APL:12.79\n",
            "6144/8000 [======================>.......] - ETA: 54s - loss: 0.2608 - acc: 0.9570 APL:14.61\n",
            "6272/8000 [======================>.......] - ETA: 50s - loss: 0.2601 - acc: 0.9573 APL:14.68\n",
            "6400/8000 [=======================>......] - ETA: 46s - loss: 0.2598 - acc: 0.9573 APL:14.56\n",
            "6528/8000 [=======================>......] - ETA: 43s - loss: 0.2603 - acc: 0.9570 APL:14.65\n",
            "6656/8000 [=======================>......] - ETA: 39s - loss: 0.2588 - acc: 0.9576 APL:14.59\n",
            "6784/8000 [========================>.....] - ETA: 35s - loss: 0.2585 - acc: 0.9575 APL:14.65\n",
            "6912/8000 [========================>.....] - ETA: 32s - loss: 0.2589 - acc: 0.9573 APL:14.60\n",
            "7040/8000 [=========================>....] - ETA: 28s - loss: 0.2584 - acc: 0.9575 APL:14.30\n",
            "7168/8000 [=========================>....] - ETA: 24s - loss: 0.2573 - acc: 0.9581 APL:14.11\n",
            "7296/8000 [==========================>...] - ETA: 20s - loss: 0.2583 - acc: 0.9578 APL:14.11\n",
            "7424/8000 [==========================>...] - ETA: 16s - loss: 0.2578 - acc: 0.9578 APL:14.30\n",
            "7552/8000 [===========================>..] - ETA: 13s - loss: 0.2582 - acc: 0.9580 APL:14.62\n",
            "7680/8000 [===========================>..] - ETA: 9s - loss: 0.2585 - acc: 0.9581  APL:14.62\n",
            "7808/8000 [============================>.] - ETA: 5s - loss: 0.2588 - acc: 0.9576 APL:14.60\n",
            "7936/8000 [============================>.] - ETA: 1s - loss: 0.2588 - acc: 0.9577 APL:14.30\n",
            " APL:13.36\n",
            "8000/8000 [==============================] - 242s 30ms/step - loss: 0.2581 - acc: 0.9580 - val_loss: 0.3602 - val_acc: 0.9193\n",
            "Epoch 10/10\n",
            " 128/8000 [..............................] - ETA: 0s - loss: 0.2079 - acc: 0.9922 APL:12.84\n",
            " 256/8000 [..............................] - ETA: 1:51 - loss: 0.2078 - acc: 0.9766 APL:14.14\n",
            " 384/8000 [>.............................] - ETA: 2:28 - loss: 0.2115 - acc: 0.9740 APL:12.61\n",
            " 512/8000 [>.............................] - ETA: 2:43 - loss: 0.2154 - acc: 0.9688 APL:15.07\n",
            " 640/8000 [=>............................] - ETA: 2:54 - loss: 0.2308 - acc: 0.9672 APL:14.59\n",
            " 768/8000 [=>............................] - ETA: 2:59 - loss: 0.2294 - acc: 0.9688 APL:13.25\n",
            " 896/8000 [==>...........................] - ETA: 3:01 - loss: 0.2355 - acc: 0.9665 APL:11.88\n",
            "1024/8000 [==>...........................] - ETA: 3:01 - loss: 0.2420 - acc: 0.9658 APL:12.81\n",
            "1152/8000 [===>..........................] - ETA: 3:00 - loss: 0.2358 - acc: 0.9688 APL:14.62\n",
            "1280/8000 [===>..........................] - ETA: 2:59 - loss: 0.2365 - acc: 0.9688 APL:14.38\n",
            "1408/8000 [====>.........................] - ETA: 2:59 - loss: 0.2399 - acc: 0.9659 APL:14.61\n",
            "1536/8000 [====>.........................] - ETA: 2:58 - loss: 0.2413 - acc: 0.9635 APL:12.78\n",
            "1664/8000 [=====>........................] - ETA: 2:55 - loss: 0.2439 - acc: 0.9627 APL:14.31\n",
            "1792/8000 [=====>........................] - ETA: 2:53 - loss: 0.2435 - acc: 0.9632 APL:14.31\n",
            "1920/8000 [======>.......................] - ETA: 2:50 - loss: 0.2452 - acc: 0.9620 APL:14.25\n",
            "2048/8000 [======>.......................] - ETA: 2:47 - loss: 0.2461 - acc: 0.9614 APL:14.59\n",
            "2176/8000 [=======>......................] - ETA: 2:44 - loss: 0.2465 - acc: 0.9605 APL:14.59\n",
            "2304/8000 [=======>......................] - ETA: 2:41 - loss: 0.2430 - acc: 0.9622 APL:14.59\n",
            "2432/8000 [========>.....................] - ETA: 2:38 - loss: 0.2435 - acc: 0.9622 APL:14.31\n",
            "2560/8000 [========>.....................] - ETA: 2:35 - loss: 0.2400 - acc: 0.9641 APL:13.13\n",
            "2688/8000 [=========>....................] - ETA: 2:32 - loss: 0.2423 - acc: 0.9632 APL:13.13\n",
            "2816/8000 [=========>....................] - ETA: 2:28 - loss: 0.2433 - acc: 0.9631 APL:12.80\n",
            "2944/8000 [==========>...................] - ETA: 2:24 - loss: 0.2420 - acc: 0.9637 APL:14.63\n",
            "3072/8000 [==========>...................] - ETA: 2:21 - loss: 0.2409 - acc: 0.9642 APL:14.55\n",
            "3200/8000 [===========>..................] - ETA: 2:17 - loss: 0.2434 - acc: 0.9625 APL:12.81\n",
            "3328/8000 [===========>..................] - ETA: 2:14 - loss: 0.2442 - acc: 0.9618 APL:12.81\n",
            "3456/8000 [===========>..................] - ETA: 2:10 - loss: 0.2428 - acc: 0.9621 APL:12.79\n",
            "3584/8000 [============>.................] - ETA: 2:07 - loss: 0.2423 - acc: 0.9626 APL:12.79\n",
            "3712/8000 [============>.................] - ETA: 2:03 - loss: 0.2434 - acc: 0.9623 APL:15.07\n",
            "3840/8000 [=============>................] - ETA: 2:00 - loss: 0.2429 - acc: 0.9625 APL:14.66\n",
            "3968/8000 [=============>................] - ETA: 1:56 - loss: 0.2440 - acc: 0.9612 APL:14.61\n",
            "4096/8000 [==============>...............] - ETA: 1:53 - loss: 0.2429 - acc: 0.9617 APL:12.85\n",
            "4224/8000 [==============>...............] - ETA: 1:49 - loss: 0.2441 - acc: 0.9612 APL:12.81\n",
            "4352/8000 [===============>..............] - ETA: 1:45 - loss: 0.2437 - acc: 0.9616 APL:12.86\n",
            "4480/8000 [===============>..............] - ETA: 1:42 - loss: 0.2444 - acc: 0.9612 APL:14.62\n",
            "4608/8000 [================>.............] - ETA: 1:38 - loss: 0.2448 - acc: 0.9612 APL:14.32\n",
            "4736/8000 [================>.............] - ETA: 1:34 - loss: 0.2458 - acc: 0.9609 APL:14.13\n",
            "4864/8000 [=================>............] - ETA: 1:31 - loss: 0.2476 - acc: 0.9595 APL:13.74\n",
            "4992/8000 [=================>............] - ETA: 1:27 - loss: 0.2465 - acc: 0.9603 APL:11.61\n",
            "5120/8000 [==================>...........] - ETA: 1:23 - loss: 0.2491 - acc: 0.9594 APL:13.74\n",
            "5248/8000 [==================>...........] - ETA: 1:20 - loss: 0.2503 - acc: 0.9587 APL:14.58\n",
            "5376/8000 [===================>..........] - ETA: 1:16 - loss: 0.2516 - acc: 0.9581 APL:15.09\n",
            "5504/8000 [===================>..........] - ETA: 1:13 - loss: 0.2573 - acc: 0.9553 APL:14.57\n",
            "5632/8000 [====================>.........] - ETA: 1:09 - loss: 0.2569 - acc: 0.9553 APL:13.26\n",
            "5760/8000 [====================>.........] - ETA: 1:05 - loss: 0.2556 - acc: 0.9559 APL:13.27\n",
            "5888/8000 [=====================>........] - ETA: 1:01 - loss: 0.2576 - acc: 0.9558 APL:13.20\n",
            "6016/8000 [=====================>........] - ETA: 58s - loss: 0.2583 - acc: 0.9553  APL:12.80\n",
            "6144/8000 [======================>.......] - ETA: 54s - loss: 0.2578 - acc: 0.9556 APL:14.89\n",
            "6272/8000 [======================>.......] - ETA: 50s - loss: 0.2595 - acc: 0.9549 APL:14.89\n",
            "6400/8000 [=======================>......] - ETA: 46s - loss: 0.2584 - acc: 0.9553 APL:15.07\n",
            "6528/8000 [=======================>......] - ETA: 43s - loss: 0.2586 - acc: 0.9553 APL:14.61\n",
            "6656/8000 [=======================>......] - ETA: 39s - loss: 0.2604 - acc: 0.9548 APL:13.23\n",
            "6784/8000 [========================>.....] - ETA: 35s - loss: 0.2614 - acc: 0.9543 APL:13.20\n",
            "6912/8000 [========================>.....] - ETA: 32s - loss: 0.2620 - acc: 0.9541 APL:13.21\n",
            "7040/8000 [=========================>....] - ETA: 28s - loss: 0.2618 - acc: 0.9541 APL:12.87\n",
            "7168/8000 [=========================>....] - ETA: 24s - loss: 0.2617 - acc: 0.9542 APL:14.59\n",
            "7296/8000 [==========================>...] - ETA: 20s - loss: 0.2620 - acc: 0.9544 APL:15.12\n",
            "7424/8000 [==========================>...] - ETA: 16s - loss: 0.2630 - acc: 0.9543 APL:14.49\n",
            "7552/8000 [===========================>..] - ETA: 13s - loss: 0.2624 - acc: 0.9546 APL:11.92\n",
            "7680/8000 [===========================>..] - ETA: 9s - loss: 0.2619 - acc: 0.9549  APL:13.44\n",
            "7808/8000 [============================>.] - ETA: 5s - loss: 0.2614 - acc: 0.9552 APL:13.50\n",
            "7936/8000 [============================>.] - ETA: 1s - loss: 0.2617 - acc: 0.9548 APL:12.80\n",
            " APL:15.07\n",
            "8000/8000 [==============================] - 241s 30ms/step - loss: 0.2621 - acc: 0.9543 - val_loss: 0.2483 - val_acc: 0.9615\n",
            "training surrogate net... [2/3]\n",
            "Epoch 1/20\n",
            "252/252 [==============================] - 2s 7ms/step - loss: 0.8395 - mean_squared_error: 0.7936\n",
            "Epoch 2/20\n",
            "252/252 [==============================] - 2s 7ms/step - loss: 0.7746 - mean_squared_error: 0.7289\n",
            "Epoch 3/20\n",
            "252/252 [==============================] - 2s 7ms/step - loss: 0.7376 - mean_squared_error: 0.6922\n",
            "Epoch 4/20\n",
            "252/252 [==============================] - 2s 7ms/step - loss: 0.7185 - mean_squared_error: 0.6734\n",
            "Epoch 5/20\n",
            "252/252 [==============================] - 2s 7ms/step - loss: 0.7125 - mean_squared_error: 0.6676\n",
            "Epoch 6/20\n",
            "252/252 [==============================] - 2s 7ms/step - loss: 0.7125 - mean_squared_error: 0.6679\n",
            "Epoch 7/20\n",
            "252/252 [==============================] - 2s 7ms/step - loss: 0.7116 - mean_squared_error: 0.6673\n",
            "Epoch 8/20\n",
            "252/252 [==============================] - 2s 7ms/step - loss: 0.7075 - mean_squared_error: 0.6634\n",
            "Epoch 9/20\n",
            "252/252 [==============================] - 2s 7ms/step - loss: 0.7099 - mean_squared_error: 0.6661\n",
            "Epoch 10/20\n",
            "252/252 [==============================] - 2s 7ms/step - loss: 0.7066 - mean_squared_error: 0.6630\n",
            "Epoch 11/20\n",
            "252/252 [==============================] - 2s 7ms/step - loss: 0.7083 - mean_squared_error: 0.6649\n",
            "Epoch 12/20\n",
            "252/252 [==============================] - 2s 7ms/step - loss: 0.7082 - mean_squared_error: 0.6652\n",
            "Epoch 13/20\n",
            "252/252 [==============================] - 2s 7ms/step - loss: 0.7066 - mean_squared_error: 0.6638\n",
            "Epoch 14/20\n",
            "252/252 [==============================] - 2s 7ms/step - loss: 0.7113 - mean_squared_error: 0.6688\n",
            "Epoch 15/20\n",
            "252/252 [==============================] - 2s 7ms/step - loss: 0.7096 - mean_squared_error: 0.6673\n",
            "Epoch 16/20\n",
            "252/252 [==============================] - 2s 7ms/step - loss: 0.7078 - mean_squared_error: 0.6657\n",
            "Epoch 17/20\n",
            "252/252 [==============================] - 2s 7ms/step - loss: 0.7040 - mean_squared_error: 0.6622\n",
            "Epoch 18/20\n",
            "252/252 [==============================] - 2s 7ms/step - loss: 0.7021 - mean_squared_error: 0.6604\n",
            "Epoch 19/20\n",
            "252/252 [==============================] - 2s 7ms/step - loss: 0.7070 - mean_squared_error: 0.6656\n",
            "Epoch 20/20\n",
            "252/252 [==============================] - 2s 7ms/step - loss: 0.7022 - mean_squared_error: 0.6611\n",
            "training MLP net... [3/3]\n",
            "Train on 8000 samples, validate on 2750 samples\n",
            "Epoch 1/10\n",
            "8000/8000 [==============================] - 3s 397us/step - loss: 0.2551 - acc: 0.9580 - val_loss: 0.2611 - val_acc: 0.9596\n",
            "Epoch 2/10\n",
            "8000/8000 [==============================] - 1s 71us/step - loss: 0.2398 - acc: 0.9651 - val_loss: 0.3078 - val_acc: 0.9444\n",
            "Epoch 3/10\n",
            "8000/8000 [==============================] - 1s 73us/step - loss: 0.2283 - acc: 0.9691 - val_loss: 0.3237 - val_acc: 0.9371\n",
            "Epoch 4/10\n",
            "8000/8000 [==============================] - 1s 72us/step - loss: 0.2267 - acc: 0.9695 - val_loss: 0.2483 - val_acc: 0.9658\n",
            "Epoch 5/10\n",
            "8000/8000 [==============================] - 1s 73us/step - loss: 0.2183 - acc: 0.9739 - val_loss: 0.2876 - val_acc: 0.9495\n",
            "Epoch 6/10\n",
            "8000/8000 [==============================] - 1s 74us/step - loss: 0.2381 - acc: 0.9645 - val_loss: 0.2174 - val_acc: 0.9753\n",
            "Epoch 7/10\n",
            "8000/8000 [==============================] - 1s 71us/step - loss: 0.2176 - acc: 0.9738 - val_loss: 0.3166 - val_acc: 0.9411\n",
            "Epoch 8/10\n",
            "8000/8000 [==============================] - 1s 75us/step - loss: 0.2199 - acc: 0.9714 - val_loss: 0.2098 - val_acc: 0.9756\n",
            "Epoch 9/10\n",
            " 128/8000 [..............................] - ETA: 0s - loss: 0.2619 - acc: 0.9609 APL:15.22\n",
            " 256/8000 [..............................] - ETA: 2:25 - loss: 0.3174 - acc: 0.9375 APL:14.91\n",
            " 384/8000 [>.............................] - ETA: 2:54 - loss: 0.2919 - acc: 0.9453 APL:15.11\n",
            " 512/8000 [>.............................] - ETA: 3:07 - loss: 0.2813 - acc: 0.9453 APL:12.49\n",
            " 640/8000 [=>............................] - ETA: 3:12 - loss: 0.2739 - acc: 0.9531"
          ],
          "name": "stdout"
        },
        {
          "output_type": "error",
          "ename": "KeyboardInterrupt",
          "evalue": "ignored",
          "traceback": [
            "\u001b[0;31m---------------------------------------------------------------------------\u001b[0m",
            "\u001b[0;31mKeyboardInterrupt\u001b[0m                         Traceback (most recent call last)",
            "\u001b[0;32m<ipython-input-64-b6412987afb0>\u001b[0m in \u001b[0;36m<module>\u001b[0;34m()\u001b[0m\n\u001b[0;32m----> 1\u001b[0;31m \u001b[0mt\u001b[0m\u001b[0;34m.\u001b[0m\u001b[0mtrain\u001b[0m\u001b[0;34m(\u001b[0m\u001b[0mX\u001b[0m\u001b[0;34m,\u001b[0m \u001b[0mY\u001b[0m\u001b[0;34m,\u001b[0m \u001b[0mbatch_size\u001b[0m\u001b[0;34m=\u001b[0m\u001b[0;36m128\u001b[0m\u001b[0;34m,\u001b[0m \u001b[0miters_retrain\u001b[0m\u001b[0;34m=\u001b[0m\u001b[0;36m3\u001b[0m\u001b[0;34m,\u001b[0m \u001b[0mepochs_sur\u001b[0m\u001b[0;34m=\u001b[0m\u001b[0;36m20\u001b[0m\u001b[0;34m,\u001b[0m \u001b[0mepochs_mlp\u001b[0m\u001b[0;34m=\u001b[0m\u001b[0;36m10\u001b[0m\u001b[0;34m,\u001b[0m \u001b[0mfeature_names\u001b[0m\u001b[0;34m=\u001b[0m\u001b[0mlist\u001b[0m\u001b[0;34m(\u001b[0m\u001b[0mdf\u001b[0m\u001b[0;34m.\u001b[0m\u001b[0mcolumns\u001b[0m\u001b[0;34m.\u001b[0m\u001b[0mvalues\u001b[0m\u001b[0;34m)\u001b[0m\u001b[0;34m,\u001b[0m \u001b[0mvalidation_data\u001b[0m\u001b[0;34m=\u001b[0m\u001b[0;34m(\u001b[0m\u001b[0mX_test\u001b[0m\u001b[0;34m,\u001b[0m \u001b[0mY_test\u001b[0m\u001b[0;34m)\u001b[0m\u001b[0;34m,\u001b[0m \u001b[0mclass_names\u001b[0m\u001b[0;34m=\u001b[0m\u001b[0mlist\u001b[0m\u001b[0;34m(\u001b[0m\u001b[0mcat_index\u001b[0m\u001b[0;34m.\u001b[0m\u001b[0mkeys\u001b[0m\u001b[0;34m(\u001b[0m\u001b[0;34m)\u001b[0m\u001b[0;34m)\u001b[0m\u001b[0;34m)\u001b[0m\u001b[0;34m\u001b[0m\u001b[0;34m\u001b[0m\u001b[0m\n\u001b[0m",
            "\u001b[0;32m<ipython-input-56-b365a86d8398>\u001b[0m in \u001b[0;36mtrain\u001b[0;34m(self, X_train, y_train, iters_retrain, epochs_mlp, epochs_sur, batch_size, feature_names, validation_data, class_names)\u001b[0m\n\u001b[1;32m     37\u001b[0m             \u001b[0mself\u001b[0m\u001b[0;34m.\u001b[0m\u001b[0mmlp\u001b[0m\u001b[0;34m.\u001b[0m\u001b[0mmodel\u001b[0m\u001b[0;34m.\u001b[0m\u001b[0mcompile\u001b[0m\u001b[0;34m(\u001b[0m\u001b[0moptimizer\u001b[0m\u001b[0;34m=\u001b[0m\u001b[0;34m'adam'\u001b[0m\u001b[0;34m,\u001b[0m \u001b[0mloss\u001b[0m\u001b[0;34m=\u001b[0m\u001b[0mself\u001b[0m\u001b[0;34m.\u001b[0m\u001b[0mloss\u001b[0m\u001b[0;34m,\u001b[0m \u001b[0mmetrics\u001b[0m\u001b[0;34m=\u001b[0m\u001b[0;34m[\u001b[0m\u001b[0;34m'accuracy'\u001b[0m\u001b[0;34m]\u001b[0m\u001b[0;34m)\u001b[0m\u001b[0;34m\u001b[0m\u001b[0;34m\u001b[0m\u001b[0m\n\u001b[1;32m     38\u001b[0m             \u001b[0mprint\u001b[0m\u001b[0;34m(\u001b[0m\u001b[0;34m'training MLP net... [%d/%d]'\u001b[0m \u001b[0;34m%\u001b[0m \u001b[0;34m(\u001b[0m\u001b[0mi\u001b[0m \u001b[0;34m+\u001b[0m \u001b[0;36m1\u001b[0m\u001b[0;34m,\u001b[0m \u001b[0miters_retrain\u001b[0m\u001b[0;34m)\u001b[0m\u001b[0;34m)\u001b[0m\u001b[0;34m\u001b[0m\u001b[0;34m\u001b[0m\u001b[0m\n\u001b[0;32m---> 39\u001b[0;31m             \u001b[0mself\u001b[0m\u001b[0;34m.\u001b[0m\u001b[0mmlp\u001b[0m\u001b[0;34m.\u001b[0m\u001b[0mtrain\u001b[0m\u001b[0;34m(\u001b[0m\u001b[0mX_train\u001b[0m\u001b[0;34m,\u001b[0m \u001b[0my_train\u001b[0m\u001b[0;34m,\u001b[0m \u001b[0mepochs\u001b[0m\u001b[0;34m=\u001b[0m\u001b[0mepochs_mlp\u001b[0m\u001b[0;34m,\u001b[0m \u001b[0mbatch_size\u001b[0m\u001b[0;34m=\u001b[0m\u001b[0mbatch_size\u001b[0m\u001b[0;34m,\u001b[0m \u001b[0mvalidation_data\u001b[0m\u001b[0;34m=\u001b[0m\u001b[0mvalidation_data\u001b[0m\u001b[0;34m)\u001b[0m\u001b[0;34m\u001b[0m\u001b[0;34m\u001b[0m\u001b[0m\n\u001b[0m\u001b[1;32m     40\u001b[0m             \u001b[0mprint\u001b[0m\u001b[0;34m(\u001b[0m\u001b[0;34m'training surrogate net... [%d/%d]'\u001b[0m \u001b[0;34m%\u001b[0m \u001b[0;34m(\u001b[0m\u001b[0mi\u001b[0m \u001b[0;34m+\u001b[0m \u001b[0;36m1\u001b[0m\u001b[0;34m,\u001b[0m \u001b[0miters_retrain\u001b[0m\u001b[0;34m)\u001b[0m\u001b[0;34m)\u001b[0m\u001b[0;34m\u001b[0m\u001b[0;34m\u001b[0m\u001b[0m\n\u001b[1;32m     41\u001b[0m             \u001b[0mself\u001b[0m\u001b[0;34m.\u001b[0m\u001b[0msur\u001b[0m\u001b[0;34m.\u001b[0m\u001b[0mtrain\u001b[0m\u001b[0;34m(\u001b[0m\u001b[0mnp\u001b[0m\u001b[0;34m.\u001b[0m\u001b[0marray\u001b[0m\u001b[0;34m(\u001b[0m\u001b[0mself\u001b[0m\u001b[0;34m.\u001b[0m\u001b[0mmlp\u001b[0m\u001b[0;34m.\u001b[0m\u001b[0msaved_weights\u001b[0m\u001b[0;34m)\u001b[0m\u001b[0;34m,\u001b[0m \u001b[0mself\u001b[0m\u001b[0;34m.\u001b[0m\u001b[0mmlp\u001b[0m\u001b[0;34m.\u001b[0m\u001b[0msaved_apl\u001b[0m\u001b[0;34m,\u001b[0m \u001b[0mbatch_size\u001b[0m\u001b[0;34m=\u001b[0m\u001b[0;36m16\u001b[0m\u001b[0;34m,\u001b[0m \u001b[0mepochs\u001b[0m\u001b[0;34m=\u001b[0m\u001b[0mepochs_sur\u001b[0m\u001b[0;34m)\u001b[0m\u001b[0;34m\u001b[0m\u001b[0;34m\u001b[0m\u001b[0m\n",
            "\u001b[0;32m<ipython-input-56-b365a86d8398>\u001b[0m in \u001b[0;36mtrain\u001b[0;34m(self, X_train, y_train, batch_size, epochs, validation_data)\u001b[0m\n\u001b[1;32m    123\u001b[0m                 \u001b[0mself\u001b[0m\u001b[0;34m.\u001b[0m\u001b[0mepochs\u001b[0m \u001b[0;34m+=\u001b[0m \u001b[0;36m1\u001b[0m\u001b[0;34m\u001b[0m\u001b[0;34m\u001b[0m\u001b[0m\n\u001b[1;32m    124\u001b[0m \u001b[0;34m\u001b[0m\u001b[0m\n\u001b[0;32m--> 125\u001b[0;31m         \u001b[0mself\u001b[0m\u001b[0;34m.\u001b[0m\u001b[0mmodel\u001b[0m\u001b[0;34m.\u001b[0m\u001b[0mfit\u001b[0m\u001b[0;34m(\u001b[0m\u001b[0mX_train\u001b[0m\u001b[0;34m,\u001b[0m \u001b[0my_train\u001b[0m\u001b[0;34m,\u001b[0m \u001b[0mbatch_size\u001b[0m\u001b[0;34m=\u001b[0m\u001b[0mbatch_size\u001b[0m\u001b[0;34m,\u001b[0m \u001b[0mepochs\u001b[0m\u001b[0;34m=\u001b[0m\u001b[0mepochs\u001b[0m\u001b[0;34m,\u001b[0m \u001b[0mcallbacks\u001b[0m\u001b[0;34m=\u001b[0m\u001b[0;34m[\u001b[0m\u001b[0mAplHistory\u001b[0m\u001b[0;34m(\u001b[0m\u001b[0mself\u001b[0m\u001b[0;34m)\u001b[0m\u001b[0;34m]\u001b[0m\u001b[0;34m,\u001b[0m \u001b[0mvalidation_data\u001b[0m\u001b[0;34m=\u001b[0m\u001b[0mvalidation_data\u001b[0m\u001b[0;34m)\u001b[0m\u001b[0;34m\u001b[0m\u001b[0;34m\u001b[0m\u001b[0m\n\u001b[0m\u001b[1;32m    126\u001b[0m \u001b[0;34m\u001b[0m\u001b[0m\n\u001b[1;32m    127\u001b[0m     \u001b[0;32mdef\u001b[0m \u001b[0mpredict\u001b[0m\u001b[0;34m(\u001b[0m\u001b[0mself\u001b[0m\u001b[0;34m,\u001b[0m \u001b[0mX\u001b[0m\u001b[0;34m)\u001b[0m\u001b[0;34m:\u001b[0m\u001b[0;34m\u001b[0m\u001b[0;34m\u001b[0m\u001b[0m\n",
            "\u001b[0;32m/usr/local/lib/python3.6/dist-packages/keras/engine/training.py\u001b[0m in \u001b[0;36mfit\u001b[0;34m(self, x, y, batch_size, epochs, verbose, callbacks, validation_split, validation_data, shuffle, class_weight, sample_weight, initial_epoch, steps_per_epoch, validation_steps, **kwargs)\u001b[0m\n\u001b[1;32m   1037\u001b[0m                                         \u001b[0minitial_epoch\u001b[0m\u001b[0;34m=\u001b[0m\u001b[0minitial_epoch\u001b[0m\u001b[0;34m,\u001b[0m\u001b[0;34m\u001b[0m\u001b[0;34m\u001b[0m\u001b[0m\n\u001b[1;32m   1038\u001b[0m                                         \u001b[0msteps_per_epoch\u001b[0m\u001b[0;34m=\u001b[0m\u001b[0msteps_per_epoch\u001b[0m\u001b[0;34m,\u001b[0m\u001b[0;34m\u001b[0m\u001b[0;34m\u001b[0m\u001b[0m\n\u001b[0;32m-> 1039\u001b[0;31m                                         validation_steps=validation_steps)\n\u001b[0m\u001b[1;32m   1040\u001b[0m \u001b[0;34m\u001b[0m\u001b[0m\n\u001b[1;32m   1041\u001b[0m     def evaluate(self, x=None, y=None,\n",
            "\u001b[0;32m/usr/local/lib/python3.6/dist-packages/keras/engine/training_arrays.py\u001b[0m in \u001b[0;36mfit_loop\u001b[0;34m(model, f, ins, out_labels, batch_size, epochs, verbose, callbacks, val_f, val_ins, shuffle, callback_metrics, initial_epoch, steps_per_epoch, validation_steps)\u001b[0m\n\u001b[1;32m    202\u001b[0m                     \u001b[0mbatch_logs\u001b[0m\u001b[0;34m[\u001b[0m\u001b[0ml\u001b[0m\u001b[0;34m]\u001b[0m \u001b[0;34m=\u001b[0m \u001b[0mo\u001b[0m\u001b[0;34m\u001b[0m\u001b[0;34m\u001b[0m\u001b[0m\n\u001b[1;32m    203\u001b[0m \u001b[0;34m\u001b[0m\u001b[0m\n\u001b[0;32m--> 204\u001b[0;31m                 \u001b[0mcallbacks\u001b[0m\u001b[0;34m.\u001b[0m\u001b[0mon_batch_end\u001b[0m\u001b[0;34m(\u001b[0m\u001b[0mbatch_index\u001b[0m\u001b[0;34m,\u001b[0m \u001b[0mbatch_logs\u001b[0m\u001b[0;34m)\u001b[0m\u001b[0;34m\u001b[0m\u001b[0;34m\u001b[0m\u001b[0m\n\u001b[0m\u001b[1;32m    205\u001b[0m                 \u001b[0;32mif\u001b[0m \u001b[0mcallback_model\u001b[0m\u001b[0;34m.\u001b[0m\u001b[0mstop_training\u001b[0m\u001b[0;34m:\u001b[0m\u001b[0;34m\u001b[0m\u001b[0;34m\u001b[0m\u001b[0m\n\u001b[1;32m    206\u001b[0m                     \u001b[0;32mbreak\u001b[0m\u001b[0;34m\u001b[0m\u001b[0;34m\u001b[0m\u001b[0m\n",
            "\u001b[0;32m/usr/local/lib/python3.6/dist-packages/keras/callbacks.py\u001b[0m in \u001b[0;36mon_batch_end\u001b[0;34m(self, batch, logs)\u001b[0m\n\u001b[1;32m    113\u001b[0m         \u001b[0mt_before_callbacks\u001b[0m \u001b[0;34m=\u001b[0m \u001b[0mtime\u001b[0m\u001b[0;34m.\u001b[0m\u001b[0mtime\u001b[0m\u001b[0;34m(\u001b[0m\u001b[0;34m)\u001b[0m\u001b[0;34m\u001b[0m\u001b[0;34m\u001b[0m\u001b[0m\n\u001b[1;32m    114\u001b[0m         \u001b[0;32mfor\u001b[0m \u001b[0mcallback\u001b[0m \u001b[0;32min\u001b[0m \u001b[0mself\u001b[0m\u001b[0;34m.\u001b[0m\u001b[0mcallbacks\u001b[0m\u001b[0;34m:\u001b[0m\u001b[0;34m\u001b[0m\u001b[0;34m\u001b[0m\u001b[0m\n\u001b[0;32m--> 115\u001b[0;31m             \u001b[0mcallback\u001b[0m\u001b[0;34m.\u001b[0m\u001b[0mon_batch_end\u001b[0m\u001b[0;34m(\u001b[0m\u001b[0mbatch\u001b[0m\u001b[0;34m,\u001b[0m \u001b[0mlogs\u001b[0m\u001b[0;34m)\u001b[0m\u001b[0;34m\u001b[0m\u001b[0;34m\u001b[0m\u001b[0m\n\u001b[0m\u001b[1;32m    116\u001b[0m         \u001b[0mself\u001b[0m\u001b[0;34m.\u001b[0m\u001b[0m_delta_ts_batch_end\u001b[0m\u001b[0;34m.\u001b[0m\u001b[0mappend\u001b[0m\u001b[0;34m(\u001b[0m\u001b[0mtime\u001b[0m\u001b[0;34m.\u001b[0m\u001b[0mtime\u001b[0m\u001b[0;34m(\u001b[0m\u001b[0;34m)\u001b[0m \u001b[0;34m-\u001b[0m \u001b[0mt_before_callbacks\u001b[0m\u001b[0;34m)\u001b[0m\u001b[0;34m\u001b[0m\u001b[0;34m\u001b[0m\u001b[0m\n\u001b[1;32m    117\u001b[0m         \u001b[0mdelta_t_median\u001b[0m \u001b[0;34m=\u001b[0m \u001b[0mnp\u001b[0m\u001b[0;34m.\u001b[0m\u001b[0mmedian\u001b[0m\u001b[0;34m(\u001b[0m\u001b[0mself\u001b[0m\u001b[0;34m.\u001b[0m\u001b[0m_delta_ts_batch_end\u001b[0m\u001b[0;34m)\u001b[0m\u001b[0;34m\u001b[0m\u001b[0;34m\u001b[0m\u001b[0m\n",
            "\u001b[0;32m<ipython-input-56-b365a86d8398>\u001b[0m in \u001b[0;36mon_batch_end\u001b[0;34m(self, batch, logs)\u001b[0m\n\u001b[1;32m    113\u001b[0m             \u001b[0;32mdef\u001b[0m \u001b[0mon_batch_end\u001b[0m\u001b[0;34m(\u001b[0m\u001b[0mself\u001b[0m\u001b[0;34m,\u001b[0m \u001b[0mbatch\u001b[0m\u001b[0;34m,\u001b[0m \u001b[0mlogs\u001b[0m\u001b[0;34m=\u001b[0m\u001b[0;34m{\u001b[0m\u001b[0;34m}\u001b[0m\u001b[0;34m)\u001b[0m\u001b[0;34m:\u001b[0m\u001b[0;34m\u001b[0m\u001b[0;34m\u001b[0m\u001b[0m\n\u001b[1;32m    114\u001b[0m                 \u001b[0;32mif\u001b[0m \u001b[0mself\u001b[0m\u001b[0;34m.\u001b[0m\u001b[0mepochs\u001b[0m \u001b[0;34m>\u001b[0m \u001b[0mepochs\u001b[0m \u001b[0;34m-\u001b[0m \u001b[0;36m3\u001b[0m\u001b[0;34m:\u001b[0m\u001b[0;34m\u001b[0m\u001b[0;34m\u001b[0m\u001b[0m\n\u001b[0;32m--> 115\u001b[0;31m                     \u001b[0mapl\u001b[0m \u001b[0;34m=\u001b[0m \u001b[0mself\u001b[0m\u001b[0;34m.\u001b[0m\u001b[0mmlp\u001b[0m\u001b[0;34m.\u001b[0m\u001b[0maverage_path_length\u001b[0m\u001b[0;34m(\u001b[0m\u001b[0mX_train\u001b[0m\u001b[0;34m,\u001b[0m \u001b[0my_train\u001b[0m\u001b[0;34m)\u001b[0m\u001b[0;34m\u001b[0m\u001b[0;34m\u001b[0m\u001b[0m\n\u001b[0m\u001b[1;32m    116\u001b[0m                     \u001b[0mself\u001b[0m\u001b[0;34m.\u001b[0m\u001b[0mmlp\u001b[0m\u001b[0;34m.\u001b[0m\u001b[0msaved_weights\u001b[0m\u001b[0;34m.\u001b[0m\u001b[0mappend\u001b[0m\u001b[0;34m(\u001b[0m\u001b[0;34m[\u001b[0m\u001b[0mi\u001b[0m \u001b[0;32mfor\u001b[0m \u001b[0ml\u001b[0m \u001b[0;32min\u001b[0m \u001b[0mself\u001b[0m\u001b[0;34m.\u001b[0m\u001b[0mmlp\u001b[0m\u001b[0;34m.\u001b[0m\u001b[0mmodel\u001b[0m\u001b[0;34m.\u001b[0m\u001b[0mget_weights\u001b[0m\u001b[0;34m(\u001b[0m\u001b[0;34m)\u001b[0m \u001b[0;32mfor\u001b[0m \u001b[0mi\u001b[0m \u001b[0;32min\u001b[0m \u001b[0ml\u001b[0m\u001b[0;34m.\u001b[0m\u001b[0mflatten\u001b[0m\u001b[0;34m(\u001b[0m\u001b[0;34m)\u001b[0m\u001b[0;34m]\u001b[0m\u001b[0;34m)\u001b[0m\u001b[0;34m\u001b[0m\u001b[0;34m\u001b[0m\u001b[0m\n\u001b[1;32m    117\u001b[0m                     \u001b[0mself\u001b[0m\u001b[0;34m.\u001b[0m\u001b[0mmlp\u001b[0m\u001b[0;34m.\u001b[0m\u001b[0msaved_apl\u001b[0m\u001b[0;34m.\u001b[0m\u001b[0mappend\u001b[0m\u001b[0;34m(\u001b[0m\u001b[0mapl\u001b[0m\u001b[0;34m)\u001b[0m\u001b[0;34m\u001b[0m\u001b[0;34m\u001b[0m\u001b[0m\n",
            "\u001b[0;32m<ipython-input-56-b365a86d8398>\u001b[0m in \u001b[0;36maverage_path_length\u001b[0;34m(self, X_train, y_train)\u001b[0m\n\u001b[1;32m     88\u001b[0m \u001b[0;34m\u001b[0m\u001b[0m\n\u001b[1;32m     89\u001b[0m     \u001b[0;32mdef\u001b[0m \u001b[0maverage_path_length\u001b[0m\u001b[0;34m(\u001b[0m\u001b[0mself\u001b[0m\u001b[0;34m,\u001b[0m \u001b[0mX_train\u001b[0m\u001b[0;34m,\u001b[0m \u001b[0my_train\u001b[0m\u001b[0;34m)\u001b[0m\u001b[0;34m:\u001b[0m\u001b[0;34m\u001b[0m\u001b[0;34m\u001b[0m\u001b[0m\n\u001b[0;32m---> 90\u001b[0;31m         \u001b[0mtree\u001b[0m \u001b[0;34m=\u001b[0m \u001b[0mself\u001b[0m\u001b[0;34m.\u001b[0m\u001b[0mfit_tree\u001b[0m\u001b[0;34m(\u001b[0m\u001b[0mX_train\u001b[0m\u001b[0;34m,\u001b[0m \u001b[0my_train\u001b[0m\u001b[0;34m)\u001b[0m\u001b[0;34m\u001b[0m\u001b[0;34m\u001b[0m\u001b[0m\n\u001b[0m\u001b[1;32m     91\u001b[0m         \u001b[0mpath_length\u001b[0m \u001b[0;34m=\u001b[0m \u001b[0;36m0.0\u001b[0m\u001b[0;34m\u001b[0m\u001b[0;34m\u001b[0m\u001b[0m\n\u001b[1;32m     92\u001b[0m         \u001b[0;31m#Compute average path length\u001b[0m\u001b[0;34m\u001b[0m\u001b[0;34m\u001b[0m\u001b[0;34m\u001b[0m\u001b[0m\n",
            "\u001b[0;32m<ipython-input-56-b365a86d8398>\u001b[0m in \u001b[0;36mfit_tree\u001b[0;34m(self, X_train, y_train)\u001b[0m\n\u001b[1;32m     80\u001b[0m     \u001b[0;32mdef\u001b[0m \u001b[0mfit_tree\u001b[0m\u001b[0;34m(\u001b[0m\u001b[0mself\u001b[0m\u001b[0;34m,\u001b[0m \u001b[0mX_train\u001b[0m\u001b[0;34m,\u001b[0m \u001b[0my_train\u001b[0m\u001b[0;34m)\u001b[0m\u001b[0;34m:\u001b[0m\u001b[0;34m\u001b[0m\u001b[0;34m\u001b[0m\u001b[0m\n\u001b[1;32m     81\u001b[0m         \u001b[0;34m\"\"\"Train decision tree to track path length.\"\"\"\u001b[0m\u001b[0;34m\u001b[0m\u001b[0;34m\u001b[0m\u001b[0m\n\u001b[0;32m---> 82\u001b[0;31m         \u001b[0my_train_hat\u001b[0m \u001b[0;34m=\u001b[0m \u001b[0mself\u001b[0m\u001b[0;34m.\u001b[0m\u001b[0mmodel\u001b[0m\u001b[0;34m.\u001b[0m\u001b[0mpredict\u001b[0m\u001b[0;34m(\u001b[0m\u001b[0mX_train\u001b[0m\u001b[0;34m)\u001b[0m\u001b[0;34m\u001b[0m\u001b[0;34m\u001b[0m\u001b[0m\n\u001b[0m\u001b[1;32m     83\u001b[0m         \u001b[0;31m# y_train_hat_int = np.rint(y_train_hat).astype(int)\u001b[0m\u001b[0;34m\u001b[0m\u001b[0;34m\u001b[0m\u001b[0;34m\u001b[0m\u001b[0m\n\u001b[1;32m     84\u001b[0m         \u001b[0my_pred\u001b[0m \u001b[0;34m=\u001b[0m \u001b[0;34m[\u001b[0m\u001b[0mnp\u001b[0m\u001b[0;34m.\u001b[0m\u001b[0margmax\u001b[0m\u001b[0;34m(\u001b[0m\u001b[0mx\u001b[0m\u001b[0;34m)\u001b[0m \u001b[0;32mfor\u001b[0m \u001b[0mx\u001b[0m \u001b[0;32min\u001b[0m \u001b[0my_train_hat\u001b[0m\u001b[0;34m]\u001b[0m\u001b[0;34m\u001b[0m\u001b[0;34m\u001b[0m\u001b[0m\n",
            "\u001b[0;32m/usr/local/lib/python3.6/dist-packages/keras/engine/training.py\u001b[0m in \u001b[0;36mpredict\u001b[0;34m(self, x, batch_size, verbose, steps)\u001b[0m\n\u001b[1;32m   1167\u001b[0m                                             \u001b[0mbatch_size\u001b[0m\u001b[0;34m=\u001b[0m\u001b[0mbatch_size\u001b[0m\u001b[0;34m,\u001b[0m\u001b[0;34m\u001b[0m\u001b[0;34m\u001b[0m\u001b[0m\n\u001b[1;32m   1168\u001b[0m                                             \u001b[0mverbose\u001b[0m\u001b[0;34m=\u001b[0m\u001b[0mverbose\u001b[0m\u001b[0;34m,\u001b[0m\u001b[0;34m\u001b[0m\u001b[0;34m\u001b[0m\u001b[0m\n\u001b[0;32m-> 1169\u001b[0;31m                                             steps=steps)\n\u001b[0m\u001b[1;32m   1170\u001b[0m \u001b[0;34m\u001b[0m\u001b[0m\n\u001b[1;32m   1171\u001b[0m     def train_on_batch(self, x, y,\n",
            "\u001b[0;32m/usr/local/lib/python3.6/dist-packages/keras/engine/training_arrays.py\u001b[0m in \u001b[0;36mpredict_loop\u001b[0;34m(model, f, ins, batch_size, verbose, steps)\u001b[0m\n\u001b[1;32m    292\u001b[0m                 \u001b[0mins_batch\u001b[0m\u001b[0;34m[\u001b[0m\u001b[0mi\u001b[0m\u001b[0;34m]\u001b[0m \u001b[0;34m=\u001b[0m \u001b[0mins_batch\u001b[0m\u001b[0;34m[\u001b[0m\u001b[0mi\u001b[0m\u001b[0;34m]\u001b[0m\u001b[0;34m.\u001b[0m\u001b[0mtoarray\u001b[0m\u001b[0;34m(\u001b[0m\u001b[0;34m)\u001b[0m\u001b[0;34m\u001b[0m\u001b[0;34m\u001b[0m\u001b[0m\n\u001b[1;32m    293\u001b[0m \u001b[0;34m\u001b[0m\u001b[0m\n\u001b[0;32m--> 294\u001b[0;31m             \u001b[0mbatch_outs\u001b[0m \u001b[0;34m=\u001b[0m \u001b[0mf\u001b[0m\u001b[0;34m(\u001b[0m\u001b[0mins_batch\u001b[0m\u001b[0;34m)\u001b[0m\u001b[0;34m\u001b[0m\u001b[0;34m\u001b[0m\u001b[0m\n\u001b[0m\u001b[1;32m    295\u001b[0m             \u001b[0mbatch_outs\u001b[0m \u001b[0;34m=\u001b[0m \u001b[0mto_list\u001b[0m\u001b[0;34m(\u001b[0m\u001b[0mbatch_outs\u001b[0m\u001b[0;34m)\u001b[0m\u001b[0;34m\u001b[0m\u001b[0;34m\u001b[0m\u001b[0m\n\u001b[1;32m    296\u001b[0m             \u001b[0;32mif\u001b[0m \u001b[0mbatch_index\u001b[0m \u001b[0;34m==\u001b[0m \u001b[0;36m0\u001b[0m\u001b[0;34m:\u001b[0m\u001b[0;34m\u001b[0m\u001b[0;34m\u001b[0m\u001b[0m\n",
            "\u001b[0;32m/usr/local/lib/python3.6/dist-packages/keras/backend/tensorflow_backend.py\u001b[0m in \u001b[0;36m__call__\u001b[0;34m(self, inputs)\u001b[0m\n\u001b[1;32m   2713\u001b[0m                 \u001b[0;32mreturn\u001b[0m \u001b[0mself\u001b[0m\u001b[0;34m.\u001b[0m\u001b[0m_legacy_call\u001b[0m\u001b[0;34m(\u001b[0m\u001b[0minputs\u001b[0m\u001b[0;34m)\u001b[0m\u001b[0;34m\u001b[0m\u001b[0;34m\u001b[0m\u001b[0m\n\u001b[1;32m   2714\u001b[0m \u001b[0;34m\u001b[0m\u001b[0m\n\u001b[0;32m-> 2715\u001b[0;31m             \u001b[0;32mreturn\u001b[0m \u001b[0mself\u001b[0m\u001b[0;34m.\u001b[0m\u001b[0m_call\u001b[0m\u001b[0;34m(\u001b[0m\u001b[0minputs\u001b[0m\u001b[0;34m)\u001b[0m\u001b[0;34m\u001b[0m\u001b[0;34m\u001b[0m\u001b[0m\n\u001b[0m\u001b[1;32m   2716\u001b[0m         \u001b[0;32melse\u001b[0m\u001b[0;34m:\u001b[0m\u001b[0;34m\u001b[0m\u001b[0;34m\u001b[0m\u001b[0m\n\u001b[1;32m   2717\u001b[0m             \u001b[0;32mif\u001b[0m \u001b[0mpy_any\u001b[0m\u001b[0;34m(\u001b[0m\u001b[0mis_tensor\u001b[0m\u001b[0;34m(\u001b[0m\u001b[0mx\u001b[0m\u001b[0;34m)\u001b[0m \u001b[0;32mfor\u001b[0m \u001b[0mx\u001b[0m \u001b[0;32min\u001b[0m \u001b[0minputs\u001b[0m\u001b[0;34m)\u001b[0m\u001b[0;34m:\u001b[0m\u001b[0;34m\u001b[0m\u001b[0;34m\u001b[0m\u001b[0m\n",
            "\u001b[0;32m/usr/local/lib/python3.6/dist-packages/keras/backend/tensorflow_backend.py\u001b[0m in \u001b[0;36m_call\u001b[0;34m(self, inputs)\u001b[0m\n\u001b[1;32m   2634\u001b[0m             \u001b[0;32mraise\u001b[0m \u001b[0mTypeError\u001b[0m\u001b[0;34m(\u001b[0m\u001b[0;34m'`inputs` should be a list or tuple.'\u001b[0m\u001b[0;34m)\u001b[0m\u001b[0;34m\u001b[0m\u001b[0;34m\u001b[0m\u001b[0m\n\u001b[1;32m   2635\u001b[0m \u001b[0;34m\u001b[0m\u001b[0m\n\u001b[0;32m-> 2636\u001b[0;31m         \u001b[0msession\u001b[0m \u001b[0;34m=\u001b[0m \u001b[0mget_session\u001b[0m\u001b[0;34m(\u001b[0m\u001b[0;34m)\u001b[0m\u001b[0;34m\u001b[0m\u001b[0;34m\u001b[0m\u001b[0m\n\u001b[0m\u001b[1;32m   2637\u001b[0m         \u001b[0mfeed_arrays\u001b[0m \u001b[0;34m=\u001b[0m \u001b[0;34m[\u001b[0m\u001b[0;34m]\u001b[0m\u001b[0;34m\u001b[0m\u001b[0;34m\u001b[0m\u001b[0m\n\u001b[1;32m   2638\u001b[0m         \u001b[0marray_vals\u001b[0m \u001b[0;34m=\u001b[0m \u001b[0;34m[\u001b[0m\u001b[0;34m]\u001b[0m\u001b[0;34m\u001b[0m\u001b[0;34m\u001b[0m\u001b[0m\n",
            "\u001b[0;32m/usr/local/lib/python3.6/dist-packages/keras/backend/tensorflow_backend.py\u001b[0m in \u001b[0;36mget_session\u001b[0;34m()\u001b[0m\n\u001b[1;32m    191\u001b[0m             \u001b[0mcandidate_vars\u001b[0m \u001b[0;34m=\u001b[0m \u001b[0;34m[\u001b[0m\u001b[0;34m]\u001b[0m\u001b[0;34m\u001b[0m\u001b[0;34m\u001b[0m\u001b[0m\n\u001b[1;32m    192\u001b[0m             \u001b[0;32mfor\u001b[0m \u001b[0mv\u001b[0m \u001b[0;32min\u001b[0m \u001b[0mvariables\u001b[0m\u001b[0;34m:\u001b[0m\u001b[0;34m\u001b[0m\u001b[0;34m\u001b[0m\u001b[0m\n\u001b[0;32m--> 193\u001b[0;31m                 \u001b[0;32mif\u001b[0m \u001b[0;32mnot\u001b[0m \u001b[0mgetattr\u001b[0m\u001b[0;34m(\u001b[0m\u001b[0mv\u001b[0m\u001b[0;34m,\u001b[0m \u001b[0;34m'_keras_initialized'\u001b[0m\u001b[0;34m,\u001b[0m \u001b[0;32mFalse\u001b[0m\u001b[0;34m)\u001b[0m\u001b[0;34m:\u001b[0m\u001b[0;34m\u001b[0m\u001b[0;34m\u001b[0m\u001b[0m\n\u001b[0m\u001b[1;32m    194\u001b[0m                     \u001b[0mcandidate_vars\u001b[0m\u001b[0;34m.\u001b[0m\u001b[0mappend\u001b[0m\u001b[0;34m(\u001b[0m\u001b[0mv\u001b[0m\u001b[0;34m)\u001b[0m\u001b[0;34m\u001b[0m\u001b[0;34m\u001b[0m\u001b[0m\n\u001b[1;32m    195\u001b[0m             \u001b[0;32mif\u001b[0m \u001b[0mcandidate_vars\u001b[0m\u001b[0;34m:\u001b[0m\u001b[0;34m\u001b[0m\u001b[0;34m\u001b[0m\u001b[0m\n",
            "\u001b[0;31mKeyboardInterrupt\u001b[0m: "
          ]
        }
      ]
    },
    {
      "metadata": {
        "id": "yoec0xQfnhxj",
        "colab_type": "text"
      },
      "cell_type": "markdown",
      "source": [
        "# Draw the figure"
      ]
    },
    {
      "metadata": {
        "id": "WWHhudo3obRs",
        "colab_type": "code",
        "colab": {}
      },
      "cell_type": "code",
      "source": [
        "def get_points(path):\n",
        "    try:\n",
        "        f = open(path + 'log.txt', 'rb')\n",
        "    except:\n",
        "        return [], []\n",
        "    fs = f.readlines()\n",
        "    APL = []\n",
        "    acc = []\n",
        "    for l in fs:\n",
        "        l = l.decode(\"utf-8\").strip()\n",
        "        if float(l.split(' ')[-1]) > 60:\n",
        "          continue\n",
        "        APL.append(float(l.split(' ')[-1]))\n",
        "        acc.append(float(l.split(';')[0].split(' ')[-1]))\n",
        "        \n",
        "    APL, acc = np.array(APL)[np.argsort(APL)], np.array(acc)[np.argsort(APL)]\n",
        "    \n",
        "    return APL, acc\n",
        "  \n",
        "def drawtest(t=''):\n",
        "    path_n = t + 'tree_n/'\n",
        "    path_t = t + 'tree_t/'\n",
        "    path_l2 = t + 'tree_l2/'\n",
        "    path_l1 = t + 'tree_l1/'\n",
        "    apl_n, acc_n = get_points(path_n)\n",
        "    apl_t, acc_t = get_points(path_t)\n",
        "    apl_l2, acc_l2 = get_points(path_l2)\n",
        "    apl_l1, acc_l1 = get_points(path_l1)\n",
        "    %matplotlib inline\n",
        "    fig = plt.figure(figsize =(8, 5), dpi=100, facecolor=\"white\")\n",
        "    font={'family': 'serif', 'color':'darkred', 'weight':'normal', 'size':16} \n",
        "    ax = plt.gca()\n",
        "    plt.plot(apl_n, acc_n, c='b') \n",
        "    plt.plot(apl_t, acc_t, c='y') \n",
        "    plt.plot(apl_l2, acc_l2, c='r') \n",
        "    plt.plot(apl_l1, acc_l1, c='g') \n",
        "    plt.legend([\"Decision Tree\", \"Tree Regularization\", \"l2 Regularization\", \"l1 Regularization\"]) \n",
        "    plt.xlabel(\"APL\", font)\n",
        "    plt.ylabel(\"Accuracy\", font)"
      ],
      "execution_count": 0,
      "outputs": []
    },
    {
      "metadata": {
        "id": "XNtv2e-4olY3",
        "colab_type": "text"
      },
      "cell_type": "markdown",
      "source": [
        " ## Get samples from tree regularization network"
      ]
    },
    {
      "metadata": {
        "id": "DXghy9oqph9w",
        "colab_type": "code",
        "colab": {
          "base_uri": "https://localhost:8080/",
          "height": 578
        },
        "outputId": "9238935f-5aee-42be-a5e0-0ae1b0119052"
      },
      "cell_type": "code",
      "source": [
        "name = 't'\n",
        "# y_train_hat\n",
        "y_train_hat = t.predict(X)\n",
        "y_pred = [np.argmax(x) for x in y_train_hat]\n",
        "l = [1,2,3,4,5,6,7,8,9,10] + [12, 14, 16, 18, 20] + [25, 30, 40, 50, 80, 120, 160, 200, 250, 300, 350, 400, 500, 800, 1000, 2000, 2500, 3000]\n",
        "for i in range(len(l)):\n",
        "  tree = DecisionTreeClassifier(min_samples_leaf=l[i])\n",
        "  tree.fit(X, y_pred)\n",
        "  if not os.path.isdir('./tree_'+name):\n",
        "    os.mkdir('./tree_'+name)\n",
        "  nodes = visualize(tree, './tree_'+name+'/tree' + str(i) + '.pdf',False,list(df.columns.values), class_names=list(cat_index.keys()))\n",
        "  acc = accuracy_score(tree.predict(X_test), [np.argmax(x) for x in Y_test])\n",
        "  leaf_indices = tree.apply(X)\n",
        "  leaf_counts = np.bincount(leaf_indices)\n",
        "  leaf_i = np.arange(tree.tree_.node_count)\n",
        "  apl = np.dot(leaf_i, leaf_counts) / float(X.shape[0])\n",
        "  if APL_mode == 1:\n",
        "    apl = np.sum(tree.decision_path(X)) / float(X.shape[0])\n",
        "  print('tree'+ str(i) + ': accuracy {:.5f}; number of nodes '.format(acc) + str(nodes) + '; APL {:.2f}'.format(apl))\n",
        "  log = open('./tree_'+name+'/log.txt', 'a')\n",
        "  log.write('tree'+ str(i) + ': accuracy {:.5f}; number of nodes '.format(acc) + str(nodes) + '; APL {:.2f}\\n'.format(apl))\n",
        "  log.close()"
      ],
      "execution_count": 65,
      "outputs": [
        {
          "output_type": "stream",
          "text": [
            "tree0: accuracy 0.84036; number of nodes 554; APL 301.75\n",
            "tree1: accuracy 0.82873; number of nodes 486; APL 270.13\n",
            "tree2: accuracy 0.83745; number of nodes 450; APL 250.90\n",
            "tree3: accuracy 0.83782; number of nodes 392; APL 220.27\n",
            "tree4: accuracy 0.84182; number of nodes 364; APL 205.36\n",
            "tree5: accuracy 0.84109; number of nodes 330; APL 184.90\n",
            "tree6: accuracy 0.84400; number of nodes 314; APL 173.97\n",
            "tree7: accuracy 0.84400; number of nodes 296; APL 164.96\n",
            "tree8: accuracy 0.84800; number of nodes 292; APL 163.42\n",
            "tree9: accuracy 0.83782; number of nodes 288; APL 160.23\n",
            "tree10: accuracy 0.84327; number of nodes 262; APL 146.44\n",
            "tree11: accuracy 0.84400; number of nodes 236; APL 127.63\n",
            "tree12: accuracy 0.85636; number of nodes 222; APL 121.18\n",
            "tree13: accuracy 0.84909; number of nodes 206; APL 111.30\n",
            "tree14: accuracy 0.84945; number of nodes 202; APL 108.51\n",
            "tree15: accuracy 0.85564; number of nodes 178; APL 97.20\n",
            "tree16: accuracy 0.85964; number of nodes 164; APL 89.49\n",
            "tree17: accuracy 0.84545; number of nodes 138; APL 74.81\n",
            "tree18: accuracy 0.82982; number of nodes 116; APL 65.69\n",
            "tree19: accuracy 0.84327; number of nodes 92; APL 49.50\n",
            "tree20: accuracy 0.81673; number of nodes 70; APL 37.24\n",
            "tree21: accuracy 0.86036; number of nodes 56; APL 27.83\n",
            "tree22: accuracy 0.84364; number of nodes 50; APL 26.22\n",
            "tree23: accuracy 0.86618; number of nodes 44; APL 22.65\n",
            "tree24: accuracy 0.79455; number of nodes 38; APL 18.83\n",
            "tree25: accuracy 0.77927; number of nodes 32; APL 17.21\n",
            "tree26: accuracy 0.76655; number of nodes 30; APL 16.47\n",
            "tree27: accuracy 0.85091; number of nodes 24; APL 12.31\n",
            "tree28: accuracy 0.85018; number of nodes 16; APL 8.48\n",
            "tree29: accuracy 0.82618; number of nodes 14; APL 7.73\n",
            "tree30: accuracy 0.58145; number of nodes 6; APL 2.55\n",
            "tree31: accuracy 0.73673; number of nodes 4; APL 1.60\n",
            "tree32: accuracy 0.73673; number of nodes 4; APL 1.60\n"
          ],
          "name": "stdout"
        }
      ]
    },
    {
      "metadata": {
        "id": "bUh09B-4evW9",
        "colab_type": "text"
      },
      "cell_type": "markdown",
      "source": [
        "## Get samples from Decision Tree"
      ]
    },
    {
      "metadata": {
        "id": "t7vZSm2BVD6p",
        "colab_type": "code",
        "colab": {
          "base_uri": "https://localhost:8080/",
          "height": 1700
        },
        "outputId": "d09fd4f2-e8c5-45c7-96ee-46fdd5a2baa0"
      },
      "cell_type": "code",
      "source": [
        "name = 'n'\n",
        "#y_train_hat\n",
        "y_pred = [np.argmax(x) for x in Y]\n",
        "l = [1,2,3,4,5,6,7,8,9,10] + [12, 14, 16, 18, 20] + [25, 30, 40, 50, 80, 120, 160, 200, 250, 300, 350, 400, 500, 800, 1000, 2000, 2500, 3000]\n",
        "for i in range(len(l)):\n",
        "  tree = DecisionTreeClassifier(min_samples_leaf=l[i])\n",
        "  tree.fit(X, y_pred)\n",
        "  if not os.path.isdir('./tree_'+name):\n",
        "    os.mkdir('./tree_'+name)\n",
        "  nodes = visualize(tree, './tree_'+name+'/tree' + str(i) + '.pdf',False,list(df.columns.values), class_names=list(cat_index.keys()))\n",
        "  acc = accuracy_score(tree.predict(X_test), [np.argmax(x) for x in Y_test])\n",
        "  leaf_indices = tree.apply(X)\n",
        "  leaf_counts = np.bincount(leaf_indices)\n",
        "  leaf_i = np.arange(tree.tree_.node_count)\n",
        "  apl = np.dot(leaf_i, leaf_counts) / float(X.shape[0])\n",
        "  if APL_mode == 1:\n",
        "    apl = np.sum(tree.decision_path(X)) / float(X.shape[0])\n",
        "  print('tree'+ str(i) + ': accuracy {:.5f}; number of nodes '.format(acc) + str(nodes) + '; APL {:.2f}\\n'.format(apl))\n",
        "  log = open('./tree_'+name+'/log.txt', 'a')\n",
        "  log.write('tree'+ str(i) + ': accuracy {:.5f}; number of nodes '.format(acc) + str(nodes) + '; APL {:.2f}\\n'.format(apl))\n",
        "  log.close()"
      ],
      "execution_count": 46,
      "outputs": [
        {
          "output_type": "stream",
          "text": [
            "number of nodes: 198\n",
            "tree0: accuracy 0.98036; number of nodes 198; APL 121.41\n",
            "\n",
            "number of nodes: 188\n",
            "tree1: accuracy 0.97927; number of nodes 188; APL 115.87\n",
            "\n",
            "number of nodes: 178\n",
            "tree2: accuracy 0.98218; number of nodes 178; APL 109.87\n",
            "\n",
            "number of nodes: 166\n",
            "tree3: accuracy 0.98400; number of nodes 166; APL 103.83\n",
            "\n",
            "number of nodes: 158\n",
            "tree4: accuracy 0.98400; number of nodes 158; APL 98.65\n",
            "\n",
            "number of nodes: 154\n",
            "tree5: accuracy 0.98473; number of nodes 154; APL 96.38\n",
            "\n",
            "number of nodes: 154\n",
            "tree6: accuracy 0.98473; number of nodes 154; APL 97.03\n",
            "\n",
            "number of nodes: 154\n",
            "tree7: accuracy 0.98109; number of nodes 154; APL 95.28\n",
            "\n",
            "number of nodes: 144\n",
            "tree8: accuracy 0.98145; number of nodes 144; APL 90.43\n",
            "\n",
            "number of nodes: 144\n",
            "tree9: accuracy 0.98182; number of nodes 144; APL 90.42\n",
            "\n",
            "number of nodes: 138\n",
            "tree10: accuracy 0.97782; number of nodes 138; APL 85.70\n",
            "\n",
            "number of nodes: 134\n",
            "tree11: accuracy 0.97527; number of nodes 134; APL 83.21\n",
            "\n",
            "number of nodes: 134\n",
            "tree12: accuracy 0.97309; number of nodes 134; APL 83.19\n",
            "\n",
            "number of nodes: 130\n",
            "tree13: accuracy 0.97455; number of nodes 130; APL 80.22\n",
            "\n",
            "number of nodes: 122\n",
            "tree14: accuracy 0.97527; number of nodes 122; APL 75.25\n",
            "\n",
            "number of nodes: 108\n",
            "tree15: accuracy 0.97200; number of nodes 108; APL 67.17\n",
            "\n",
            "number of nodes: 98\n",
            "tree16: accuracy 0.96509; number of nodes 98; APL 58.71\n",
            "\n",
            "number of nodes: 88\n",
            "tree17: accuracy 0.97382; number of nodes 88; APL 52.16\n",
            "\n",
            "number of nodes: 78\n",
            "tree18: accuracy 0.96473; number of nodes 78; APL 47.69\n",
            "\n",
            "number of nodes: 68\n",
            "tree19: accuracy 0.95236; number of nodes 68; APL 39.54\n",
            "\n",
            "number of nodes: 58\n",
            "tree20: accuracy 0.94109; number of nodes 58; APL 33.71\n",
            "\n",
            "number of nodes: 50\n",
            "tree21: accuracy 0.94764; number of nodes 50; APL 27.77\n",
            "\n",
            "number of nodes: 46\n",
            "tree22: accuracy 0.93273; number of nodes 46; APL 25.60\n",
            "\n",
            "number of nodes: 40\n",
            "tree23: accuracy 0.92327; number of nodes 40; APL 21.74\n",
            "\n",
            "number of nodes: 36\n",
            "tree24: accuracy 0.91018; number of nodes 36; APL 19.98\n",
            "\n",
            "number of nodes: 32\n",
            "tree25: accuracy 0.88509; number of nodes 32; APL 17.21\n",
            "\n",
            "number of nodes: 30\n",
            "tree26: accuracy 0.91055; number of nodes 30; APL 16.78\n",
            "\n",
            "number of nodes: 28\n",
            "tree27: accuracy 0.85091; number of nodes 28; APL 15.09\n",
            "\n",
            "number of nodes: 18\n",
            "tree28: accuracy 0.88327; number of nodes 18; APL 9.56\n",
            "\n",
            "number of nodes: 10\n",
            "tree29: accuracy 0.78073; number of nodes 10; APL 5.08\n",
            "\n",
            "number of nodes: 6\n",
            "tree30: accuracy 0.84327; number of nodes 6; APL 2.50\n",
            "\n",
            "number of nodes: 4\n",
            "tree31: accuracy 0.59709; number of nodes 4; APL 1.58\n",
            "\n",
            "number of nodes: 4\n",
            "tree32: accuracy 0.59709; number of nodes 4; APL 1.58\n",
            "\n"
          ],
          "name": "stdout"
        }
      ]
    },
    {
      "metadata": {
        "id": "_gRFq06yezeV",
        "colab_type": "text"
      },
      "cell_type": "markdown",
      "source": [
        "## Get samples from l1, l2 regularization network"
      ]
    },
    {
      "metadata": {
        "id": "0fGM1T1ImHJ5",
        "colab_type": "code",
        "colab": {}
      },
      "cell_type": "code",
      "source": [
        "from tree_regularization import *"
      ],
      "execution_count": 0,
      "outputs": []
    },
    {
      "metadata": {
        "id": "kuHeFSwYmLsT",
        "colab_type": "code",
        "colab": {
          "base_uri": "https://localhost:8080/",
          "height": 1159
        },
        "outputId": "7b57961d-8453-4569-e48f-be7f2030e0fd"
      },
      "cell_type": "code",
      "source": [
        "t_l1 = L1MLP(X.shape[1], len(cat), [20, 50, 50, 50], strength=0.01, APL_mode=APL_mode)\n",
        "t_l1.train(X, Y, batch_size=128, iters_retrain=5, epochs_sur=20, epochs_mlp=10, feature_names=list(df.columns.values), validation_data=(X_test, Y_test), class_names=list(cat_index.keys()))"
      ],
      "execution_count": 57,
      "outputs": [
        {
          "output_type": "stream",
          "text": [
            "training MLP net... [1/3]\n",
            "Train on 8000 samples, validate on 2750 samples\n",
            "Epoch 1/10\n",
            "8000/8000 [==============================] - 2s 236us/step - loss: 0.7102 - acc: 0.4950 - val_loss: 0.7519 - val_acc: 0.0909\n",
            "Epoch 2/10\n",
            "8000/8000 [==============================] - 1s 72us/step - loss: 0.6990 - acc: 0.5457 - val_loss: 0.7101 - val_acc: 0.4218\n",
            "Epoch 3/10\n",
            "8000/8000 [==============================] - 1s 70us/step - loss: 0.5955 - acc: 0.7439 - val_loss: 0.4030 - val_acc: 0.8804\n",
            "Epoch 4/10\n",
            "8000/8000 [==============================] - 1s 70us/step - loss: 0.4280 - acc: 0.8383 - val_loss: 0.3298 - val_acc: 0.9131\n",
            "Epoch 5/10\n",
            "8000/8000 [==============================] - 1s 72us/step - loss: 0.4080 - acc: 0.8498 - val_loss: 0.3803 - val_acc: 0.8807\n",
            "Epoch 6/10\n",
            "8000/8000 [==============================] - 1s 73us/step - loss: 0.3767 - acc: 0.8695 - val_loss: 0.3667 - val_acc: 0.8956\n",
            "Epoch 7/10\n",
            "8000/8000 [==============================] - 1s 71us/step - loss: 0.3564 - acc: 0.8825 - val_loss: 0.3900 - val_acc: 0.8869\n",
            "Epoch 8/10\n",
            "8000/8000 [==============================] - 1s 70us/step - loss: 0.3403 - acc: 0.8906 - val_loss: 0.2837 - val_acc: 0.9236\n",
            "Epoch 9/10\n",
            "8000/8000 [==============================] - 1s 74us/step - loss: 0.3474 - acc: 0.8832 - val_loss: 0.3203 - val_acc: 0.9095\n",
            "Epoch 10/10\n",
            "8000/8000 [==============================] - 1s 71us/step - loss: 0.3239 - acc: 0.8934 - val_loss: 0.3784 - val_acc: 0.8895\n",
            "training MLP net... [2/3]\n",
            "Train on 8000 samples, validate on 2750 samples\n",
            "Epoch 1/10\n",
            "8000/8000 [==============================] - 2s 258us/step - loss: 0.3019 - acc: 0.9048 - val_loss: 0.2243 - val_acc: 0.9400\n",
            "Epoch 2/10\n",
            "8000/8000 [==============================] - 1s 70us/step - loss: 0.2937 - acc: 0.9026 - val_loss: 0.3012 - val_acc: 0.9156\n",
            "Epoch 3/10\n",
            "8000/8000 [==============================] - 1s 73us/step - loss: 0.2617 - acc: 0.9149 - val_loss: 0.2223 - val_acc: 0.9393\n",
            "Epoch 4/10\n",
            "8000/8000 [==============================] - 1s 76us/step - loss: 0.2565 - acc: 0.9160 - val_loss: 0.2239 - val_acc: 0.9378\n",
            "Epoch 5/10\n",
            "8000/8000 [==============================] - 1s 74us/step - loss: 0.2218 - acc: 0.9290 - val_loss: 0.2620 - val_acc: 0.9178\n",
            "Epoch 6/10\n",
            "8000/8000 [==============================] - 1s 73us/step - loss: 0.2003 - acc: 0.9389 - val_loss: 0.2333 - val_acc: 0.9295\n",
            "Epoch 7/10\n",
            "8000/8000 [==============================] - 1s 74us/step - loss: 0.1956 - acc: 0.9401 - val_loss: 0.3118 - val_acc: 0.8971\n",
            "Epoch 8/10\n",
            "8000/8000 [==============================] - 1s 74us/step - loss: 0.1902 - acc: 0.9430 - val_loss: 0.1690 - val_acc: 0.9520\n",
            "Epoch 9/10\n",
            "8000/8000 [==============================] - 1s 73us/step - loss: 0.1689 - acc: 0.9486 - val_loss: 0.1776 - val_acc: 0.9505\n",
            "Epoch 10/10\n",
            "8000/8000 [==============================] - 1s 71us/step - loss: 0.1526 - acc: 0.9573 - val_loss: 0.1428 - val_acc: 0.9585\n",
            "training MLP net... [3/3]\n",
            "Train on 8000 samples, validate on 2750 samples\n",
            "Epoch 1/10\n",
            "8000/8000 [==============================] - 2s 263us/step - loss: 0.1626 - acc: 0.9523 - val_loss: 0.1450 - val_acc: 0.9604\n",
            "Epoch 2/10\n",
            "8000/8000 [==============================] - 1s 70us/step - loss: 0.1425 - acc: 0.9586 - val_loss: 0.1782 - val_acc: 0.9476\n",
            "Epoch 3/10\n",
            "8000/8000 [==============================] - 1s 73us/step - loss: 0.1318 - acc: 0.9644 - val_loss: 0.1750 - val_acc: 0.9491\n",
            "Epoch 4/10\n",
            "8000/8000 [==============================] - 1s 71us/step - loss: 0.1341 - acc: 0.9615 - val_loss: 0.1903 - val_acc: 0.9404\n",
            "Epoch 5/10\n",
            "8000/8000 [==============================] - 1s 70us/step - loss: 0.1247 - acc: 0.9675 - val_loss: 0.1379 - val_acc: 0.9611\n",
            "Epoch 6/10\n",
            "8000/8000 [==============================] - 1s 71us/step - loss: 0.1305 - acc: 0.9609 - val_loss: 0.1230 - val_acc: 0.9676\n",
            "Epoch 7/10\n",
            "8000/8000 [==============================] - 1s 70us/step - loss: 0.1080 - acc: 0.9732 - val_loss: 0.1998 - val_acc: 0.9353\n",
            "Epoch 8/10\n",
            "8000/8000 [==============================] - 1s 72us/step - loss: 0.1151 - acc: 0.9691 - val_loss: 0.1043 - val_acc: 0.9713\n",
            "Epoch 9/10\n",
            "8000/8000 [==============================] - 1s 71us/step - loss: 0.1272 - acc: 0.9616 - val_loss: 0.1678 - val_acc: 0.9498\n",
            "Epoch 10/10\n",
            "8000/8000 [==============================] - 1s 74us/step - loss: 0.1059 - acc: 0.9738 - val_loss: 0.1525 - val_acc: 0.9549\n"
          ],
          "name": "stdout"
        }
      ]
    },
    {
      "metadata": {
        "id": "YYgN9B03p4yf",
        "colab_type": "code",
        "colab": {
          "base_uri": "https://localhost:8080/",
          "height": 1907
        },
        "outputId": "272eeff8-343c-4a8c-8275-77eab61db623"
      },
      "cell_type": "code",
      "source": [
        "t_l2 = L2MLP(X.shape[1], len(cat), [20, 50, 50, 50], strength=0.01, APL_mode=APL_mode)\n",
        "t_l2.train(X, Y, batch_size=128, iters_retrain=5, epochs_sur=20, epochs_mlp=10, feature_names=list(df.columns.values), validation_data=(X_test, Y_test), class_names=list(cat_index.keys()))"
      ],
      "execution_count": 60,
      "outputs": [
        {
          "output_type": "stream",
          "text": [
            "training MLP net... [1/5]\n",
            "Train on 8000 samples, validate on 2750 samples\n",
            "Epoch 1/10\n",
            "8000/8000 [==============================] - 2s 302us/step - loss: 0.6828 - acc: 0.5817 - val_loss: 0.6680 - val_acc: 0.6985\n",
            "Epoch 2/10\n",
            "8000/8000 [==============================] - 1s 70us/step - loss: 0.5585 - acc: 0.7478 - val_loss: 0.4497 - val_acc: 0.8298\n",
            "Epoch 3/10\n",
            "8000/8000 [==============================] - 1s 70us/step - loss: 0.4232 - acc: 0.8327 - val_loss: 0.4111 - val_acc: 0.8509\n",
            "Epoch 4/10\n",
            "8000/8000 [==============================] - 1s 70us/step - loss: 0.3846 - acc: 0.8526 - val_loss: 0.4643 - val_acc: 0.8269\n",
            "Epoch 5/10\n",
            "8000/8000 [==============================] - 1s 71us/step - loss: 0.3572 - acc: 0.8720 - val_loss: 0.4099 - val_acc: 0.8647\n",
            "Epoch 6/10\n",
            "8000/8000 [==============================] - 1s 70us/step - loss: 0.3506 - acc: 0.8722 - val_loss: 0.3338 - val_acc: 0.8967\n",
            "Epoch 7/10\n",
            "8000/8000 [==============================] - 1s 70us/step - loss: 0.3303 - acc: 0.8835 - val_loss: 0.3690 - val_acc: 0.8811\n",
            "Epoch 8/10\n",
            "8000/8000 [==============================] - 1s 71us/step - loss: 0.3085 - acc: 0.8982 - val_loss: 0.3238 - val_acc: 0.8993\n",
            "Epoch 9/10\n",
            "8000/8000 [==============================] - 1s 71us/step - loss: 0.2910 - acc: 0.9012 - val_loss: 0.3474 - val_acc: 0.8858\n",
            "Epoch 10/10\n",
            "8000/8000 [==============================] - 1s 73us/step - loss: 0.2733 - acc: 0.9039 - val_loss: 0.2440 - val_acc: 0.9218\n",
            "training MLP net... [2/5]\n",
            "Train on 8000 samples, validate on 2750 samples\n",
            "Epoch 1/10\n",
            "8000/8000 [==============================] - 2s 299us/step - loss: 0.2659 - acc: 0.9048 - val_loss: 0.3113 - val_acc: 0.8953\n",
            "Epoch 2/10\n",
            "8000/8000 [==============================] - 1s 67us/step - loss: 0.2343 - acc: 0.9163 - val_loss: 0.2199 - val_acc: 0.9291\n",
            "Epoch 3/10\n",
            "8000/8000 [==============================] - 1s 70us/step - loss: 0.2194 - acc: 0.9243 - val_loss: 0.2072 - val_acc: 0.9298\n",
            "Epoch 4/10\n",
            "8000/8000 [==============================] - 1s 70us/step - loss: 0.1976 - acc: 0.9293 - val_loss: 0.2849 - val_acc: 0.8945\n",
            "Epoch 5/10\n",
            "8000/8000 [==============================] - 1s 72us/step - loss: 0.1779 - acc: 0.9377 - val_loss: 0.2184 - val_acc: 0.9215\n",
            "Epoch 6/10\n",
            "8000/8000 [==============================] - 1s 72us/step - loss: 0.1700 - acc: 0.9395 - val_loss: 0.1169 - val_acc: 0.9640\n",
            "Epoch 7/10\n",
            "8000/8000 [==============================] - 1s 71us/step - loss: 0.1603 - acc: 0.9440 - val_loss: 0.2371 - val_acc: 0.9124\n",
            "Epoch 8/10\n",
            "8000/8000 [==============================] - 1s 68us/step - loss: 0.1421 - acc: 0.9500 - val_loss: 0.1381 - val_acc: 0.9527\n",
            "Epoch 9/10\n",
            "8000/8000 [==============================] - 1s 68us/step - loss: 0.1267 - acc: 0.9559 - val_loss: 0.1505 - val_acc: 0.9505\n",
            "Epoch 10/10\n",
            "8000/8000 [==============================] - 1s 69us/step - loss: 0.1255 - acc: 0.9555 - val_loss: 0.1549 - val_acc: 0.9469\n",
            "training MLP net... [3/5]\n",
            "Train on 8000 samples, validate on 2750 samples\n",
            "Epoch 1/10\n",
            "8000/8000 [==============================] - 2s 307us/step - loss: 0.1220 - acc: 0.9570 - val_loss: 0.1195 - val_acc: 0.9596\n",
            "Epoch 2/10\n",
            "8000/8000 [==============================] - 1s 67us/step - loss: 0.1036 - acc: 0.9631 - val_loss: 0.0902 - val_acc: 0.9727\n",
            "Epoch 3/10\n",
            "8000/8000 [==============================] - 1s 69us/step - loss: 0.1005 - acc: 0.9634 - val_loss: 0.2400 - val_acc: 0.9029\n",
            "Epoch 4/10\n",
            "8000/8000 [==============================] - 1s 68us/step - loss: 0.1110 - acc: 0.9589 - val_loss: 0.2253 - val_acc: 0.9160\n",
            "Epoch 5/10\n",
            "8000/8000 [==============================] - 1s 70us/step - loss: 0.0953 - acc: 0.9647 - val_loss: 0.1226 - val_acc: 0.9611\n",
            "Epoch 6/10\n",
            "8000/8000 [==============================] - 1s 68us/step - loss: 0.0817 - acc: 0.9734 - val_loss: 0.0804 - val_acc: 0.9749\n",
            "Epoch 7/10\n",
            "8000/8000 [==============================] - 1s 67us/step - loss: 0.0927 - acc: 0.9646 - val_loss: 0.1830 - val_acc: 0.9360\n",
            "Epoch 8/10\n",
            "8000/8000 [==============================] - 1s 65us/step - loss: 0.0905 - acc: 0.9666 - val_loss: 0.1721 - val_acc: 0.9393\n",
            "Epoch 9/10\n",
            "8000/8000 [==============================] - 1s 67us/step - loss: 0.0691 - acc: 0.9762 - val_loss: 0.1603 - val_acc: 0.9433\n",
            "Epoch 10/10\n",
            "8000/8000 [==============================] - 1s 67us/step - loss: 0.0678 - acc: 0.9776 - val_loss: 0.1129 - val_acc: 0.9640\n",
            "training MLP net... [4/5]\n",
            "Train on 8000 samples, validate on 2750 samples\n",
            "Epoch 1/10\n",
            "8000/8000 [==============================] - 3s 316us/step - loss: 0.1015 - acc: 0.9637 - val_loss: 0.1273 - val_acc: 0.9578\n",
            "Epoch 2/10\n",
            "8000/8000 [==============================] - 1s 69us/step - loss: 0.0611 - acc: 0.9799 - val_loss: 0.1150 - val_acc: 0.9640\n",
            "Epoch 3/10\n",
            "8000/8000 [==============================] - 1s 70us/step - loss: 0.0579 - acc: 0.9811 - val_loss: 0.2267 - val_acc: 0.9182\n",
            "Epoch 4/10\n",
            "8000/8000 [==============================] - 1s 75us/step - loss: 0.0591 - acc: 0.9809 - val_loss: 0.1040 - val_acc: 0.9684\n",
            "Epoch 5/10\n",
            "8000/8000 [==============================] - 1s 78us/step - loss: 0.0541 - acc: 0.9832 - val_loss: 0.1834 - val_acc: 0.9382\n",
            "Epoch 6/10\n",
            "8000/8000 [==============================] - 1s 78us/step - loss: 0.0526 - acc: 0.9828 - val_loss: 0.1834 - val_acc: 0.9371\n",
            "Epoch 7/10\n",
            "8000/8000 [==============================] - 1s 80us/step - loss: 0.0515 - acc: 0.9834 - val_loss: 0.0828 - val_acc: 0.9745\n",
            "Epoch 8/10\n",
            "8000/8000 [==============================] - 1s 79us/step - loss: 0.0539 - acc: 0.9809 - val_loss: 0.1205 - val_acc: 0.9673\n",
            "Epoch 9/10\n",
            "8000/8000 [==============================] - 1s 78us/step - loss: 0.0886 - acc: 0.9661 - val_loss: 0.1121 - val_acc: 0.9655\n",
            "Epoch 10/10\n",
            "8000/8000 [==============================] - 1s 79us/step - loss: 0.0455 - acc: 0.9873 - val_loss: 0.0832 - val_acc: 0.9756\n",
            "training MLP net... [5/5]\n",
            "Train on 8000 samples, validate on 2750 samples\n",
            "Epoch 1/10\n",
            "8000/8000 [==============================] - 3s 343us/step - loss: 0.0534 - acc: 0.9820 - val_loss: 0.1027 - val_acc: 0.9705\n",
            "Epoch 2/10\n",
            "8000/8000 [==============================] - 1s 75us/step - loss: 0.0464 - acc: 0.9852 - val_loss: 0.1056 - val_acc: 0.9691\n",
            "Epoch 3/10\n",
            "8000/8000 [==============================] - 1s 78us/step - loss: 0.0497 - acc: 0.9821 - val_loss: 0.0829 - val_acc: 0.9767\n",
            "Epoch 4/10\n",
            "8000/8000 [==============================] - 1s 76us/step - loss: 0.0445 - acc: 0.9869 - val_loss: 0.0798 - val_acc: 0.9767\n",
            "Epoch 5/10\n",
            "8000/8000 [==============================] - 1s 75us/step - loss: 0.0493 - acc: 0.9832 - val_loss: 0.0846 - val_acc: 0.9764\n",
            "Epoch 6/10\n",
            "8000/8000 [==============================] - 1s 75us/step - loss: 0.0448 - acc: 0.9848 - val_loss: 0.0927 - val_acc: 0.9720\n",
            "Epoch 7/10\n",
            "8000/8000 [==============================] - 1s 72us/step - loss: 0.0401 - acc: 0.9868 - val_loss: 0.0801 - val_acc: 0.9785\n",
            "Epoch 8/10\n",
            "8000/8000 [==============================] - 1s 70us/step - loss: 0.0425 - acc: 0.9865 - val_loss: 0.0756 - val_acc: 0.9793\n",
            "Epoch 9/10\n",
            "8000/8000 [==============================] - 1s 73us/step - loss: 0.0477 - acc: 0.9836 - val_loss: 0.1086 - val_acc: 0.9662\n",
            "Epoch 10/10\n",
            "8000/8000 [==============================] - 1s 72us/step - loss: 0.0403 - acc: 0.9874 - val_loss: 0.2152 - val_acc: 0.9327\n"
          ],
          "name": "stdout"
        }
      ]
    },
    {
      "metadata": {
        "id": "7fJQ_YvhoheX",
        "colab_type": "code",
        "colab": {
          "base_uri": "https://localhost:8080/",
          "height": 578
        },
        "outputId": "ea59a8c7-9388-48da-cd74-aaf129ff5996"
      },
      "cell_type": "code",
      "source": [
        "name = 'l1'\n",
        "# y_train_hat\n",
        "y_train_hat = t_l1.predict(X)\n",
        "y_pred = [np.argmax(x) for x in y_train_hat]\n",
        "l = [1,2,3,4,5,6,7,8,9,10] + [12, 14, 16, 18, 20] + [25, 30, 40, 50, 80, 120, 160, 200, 250, 300, 350, 400, 500, 800, 1000, 2000, 2500, 3000]\n",
        "for i in range(len(l)):\n",
        "  tree = DecisionTreeClassifier(min_samples_leaf=l[i])\n",
        "  tree.fit(X, y_pred)\n",
        "  if not os.path.isdir('./tree_'+name):\n",
        "    os.mkdir('./tree_'+name)\n",
        "  nodes = visualize(tree, './tree_'+name+'/tree' + str(i) + '.pdf',False,list(df.columns.values), class_names=list(cat_index.keys()))\n",
        "  acc = accuracy_score(tree.predict(X_test), [np.argmax(x) for x in Y_test])\n",
        "  leaf_indices = tree.apply(X)\n",
        "  leaf_counts = np.bincount(leaf_indices)\n",
        "  leaf_i = np.arange(tree.tree_.node_count)\n",
        "  apl = np.dot(leaf_i, leaf_counts) / float(X.shape[0])\n",
        "  if APL_mode == 1:\n",
        "    apl = np.sum(tree.decision_path(X)) / float(X.shape[0])\n",
        "  print('tree'+ str(i) + ': accuracy {:.5f}; number of nodes '.format(acc) + str(nodes) + '; APL {:.2f}'.format(apl))\n",
        "  log = open('./tree_'+name+'/log.txt', 'a')\n",
        "  log.write('tree'+ str(i) + ': accuracy {:.5f}; number of nodes '.format(acc) + str(nodes) + '; APL {:.2f}\\n'.format(apl))\n",
        "  log.close()"
      ],
      "execution_count": 58,
      "outputs": [
        {
          "output_type": "stream",
          "text": [
            "tree0: accuracy 0.96836; number of nodes 262; APL 165.34\n",
            "tree1: accuracy 0.96545; number of nodes 248; APL 161.45\n",
            "tree2: accuracy 0.96800; number of nodes 232; APL 150.30\n",
            "tree3: accuracy 0.96473; number of nodes 224; APL 145.80\n",
            "tree4: accuracy 0.96945; number of nodes 202; APL 131.74\n",
            "tree5: accuracy 0.96618; number of nodes 192; APL 124.72\n",
            "tree6: accuracy 0.96509; number of nodes 186; APL 121.18\n",
            "tree7: accuracy 0.96873; number of nodes 172; APL 113.55\n",
            "tree8: accuracy 0.96655; number of nodes 166; APL 109.34\n",
            "tree9: accuracy 0.96655; number of nodes 166; APL 109.14\n",
            "tree10: accuracy 0.96000; number of nodes 162; APL 105.92\n",
            "tree11: accuracy 0.95964; number of nodes 156; APL 102.55\n",
            "tree12: accuracy 0.96655; number of nodes 140; APL 91.08\n",
            "tree13: accuracy 0.96291; number of nodes 128; APL 82.90\n",
            "tree14: accuracy 0.95418; number of nodes 124; APL 79.42\n",
            "tree15: accuracy 0.95345; number of nodes 116; APL 74.60\n",
            "tree16: accuracy 0.94909; number of nodes 108; APL 68.24\n",
            "tree17: accuracy 0.95418; number of nodes 96; APL 60.77\n",
            "tree18: accuracy 0.96400; number of nodes 88; APL 54.22\n",
            "tree19: accuracy 0.93418; number of nodes 68; APL 40.45\n",
            "tree20: accuracy 0.93382; number of nodes 58; APL 33.89\n",
            "tree21: accuracy 0.93382; number of nodes 52; APL 29.08\n",
            "tree22: accuracy 0.88982; number of nodes 46; APL 26.45\n",
            "tree23: accuracy 0.87273; number of nodes 38; APL 20.80\n",
            "tree24: accuracy 0.85782; number of nodes 38; APL 20.71\n",
            "tree25: accuracy 0.86145; number of nodes 32; APL 17.04\n",
            "tree26: accuracy 0.84691; number of nodes 30; APL 16.71\n",
            "tree27: accuracy 0.82836; number of nodes 28; APL 14.72\n",
            "tree28: accuracy 0.93309; number of nodes 16; APL 8.54\n",
            "tree29: accuracy 0.90545; number of nodes 12; APL 5.80\n",
            "tree30: accuracy 0.81673; number of nodes 6; APL 2.67\n",
            "tree31: accuracy 0.84073; number of nodes 6; APL 2.63\n",
            "tree32: accuracy 0.59709; number of nodes 4; APL 1.58\n"
          ],
          "name": "stdout"
        }
      ]
    },
    {
      "metadata": {
        "id": "pGLwZCJ6qT3A",
        "colab_type": "code",
        "colab": {
          "base_uri": "https://localhost:8080/",
          "height": 578
        },
        "outputId": "0d0cd85c-42a4-4d10-ea63-284cd21d6d58"
      },
      "cell_type": "code",
      "source": [
        "name = 'l2'\n",
        "# y_train_hat\n",
        "y_train_hat = t_l2.predict(X)\n",
        "y_pred = [np.argmax(x) for x in y_train_hat]\n",
        "l = [1,2,3,4,5,6,7,8,9,10] + [12, 14, 16, 18, 20] + [25, 30, 40, 50, 80, 120, 160, 200, 250, 300, 350, 400, 500, 800, 1000, 2000, 2500, 3000]\n",
        "for i in range(len(l)):\n",
        "  tree = DecisionTreeClassifier(min_samples_leaf=l[i])\n",
        "  tree.fit(X, y_pred)\n",
        "  if not os.path.isdir('./tree_'+name):\n",
        "    os.mkdir('./tree_'+name)\n",
        "  nodes = visualize(tree, './tree_'+name+'/tree' + str(i) + '.pdf',False,list(df.columns.values), class_names=list(cat_index.keys()))\n",
        "  acc = accuracy_score(tree.predict(X_test), [np.argmax(x) for x in Y_test])\n",
        "  leaf_indices = tree.apply(X)\n",
        "  leaf_counts = np.bincount(leaf_indices)\n",
        "  leaf_i = np.arange(tree.tree_.node_count)\n",
        "  apl = np.dot(leaf_i, leaf_counts) / float(X.shape[0])\n",
        "  if APL_mode == 1:\n",
        "    apl = np.sum(tree.decision_path(X)) / float(X.shape[0])\n",
        "  print('tree'+ str(i) + ': accuracy {:.5f}; number of nodes '.format(acc) + str(nodes) + '; APL {:.2f}'.format(apl))\n",
        "  log = open('./tree_'+name+'/log.txt', 'a')\n",
        "  log.write('tree'+ str(i) + ': accuracy {:.5f}; number of nodes '.format(acc) + str(nodes) + '; APL {:.2f}\\n'.format(apl))\n",
        "  log.close()"
      ],
      "execution_count": 61,
      "outputs": [
        {
          "output_type": "stream",
          "text": [
            "tree0: accuracy 0.94873; number of nodes 298; APL 188.57\n",
            "tree1: accuracy 0.94036; number of nodes 286; APL 184.29\n",
            "tree2: accuracy 0.94764; number of nodes 248; APL 158.14\n",
            "tree3: accuracy 0.94582; number of nodes 224; APL 143.06\n",
            "tree4: accuracy 0.96145; number of nodes 214; APL 138.23\n",
            "tree5: accuracy 0.94945; number of nodes 198; APL 126.49\n",
            "tree6: accuracy 0.95600; number of nodes 190; APL 123.02\n",
            "tree7: accuracy 0.94509; number of nodes 182; APL 118.06\n",
            "tree8: accuracy 0.95236; number of nodes 180; APL 116.69\n",
            "tree9: accuracy 0.94873; number of nodes 178; APL 115.04\n",
            "tree10: accuracy 0.95491; number of nodes 170; APL 111.11\n",
            "tree11: accuracy 0.95164; number of nodes 162; APL 104.95\n",
            "tree12: accuracy 0.94945; number of nodes 150; APL 96.63\n",
            "tree13: accuracy 0.95164; number of nodes 148; APL 95.69\n",
            "tree14: accuracy 0.95636; number of nodes 142; APL 91.04\n",
            "tree15: accuracy 0.96400; number of nodes 132; APL 83.03\n",
            "tree16: accuracy 0.96873; number of nodes 122; APL 75.57\n",
            "tree17: accuracy 0.96036; number of nodes 104; APL 62.92\n",
            "tree18: accuracy 0.94945; number of nodes 98; APL 59.57\n",
            "tree19: accuracy 0.93200; number of nodes 76; APL 45.61\n",
            "tree20: accuracy 0.90836; number of nodes 64; APL 37.81\n",
            "tree21: accuracy 0.89164; number of nodes 46; APL 26.86\n",
            "tree22: accuracy 0.89927; number of nodes 44; APL 25.46\n",
            "tree23: accuracy 0.89236; number of nodes 40; APL 22.64\n",
            "tree24: accuracy 0.91018; number of nodes 34; APL 19.03\n",
            "tree25: accuracy 0.85200; number of nodes 30; APL 16.27\n",
            "tree26: accuracy 0.84291; number of nodes 28; APL 15.95\n",
            "tree27: accuracy 0.78327; number of nodes 26; APL 14.20\n",
            "tree28: accuracy 0.88327; number of nodes 18; APL 9.55\n",
            "tree29: accuracy 0.78073; number of nodes 10; APL 5.08\n",
            "tree30: accuracy 0.84327; number of nodes 6; APL 2.50\n",
            "tree31: accuracy 0.59709; number of nodes 4; APL 1.58\n",
            "tree32: accuracy 0.59709; number of nodes 4; APL 1.58\n"
          ],
          "name": "stdout"
        }
      ]
    },
    {
      "metadata": {
        "id": "P5SDqg6Flxa2",
        "colab_type": "text"
      },
      "cell_type": "markdown",
      "source": [
        "# Draw the graph"
      ]
    },
    {
      "metadata": {
        "id": "qjFYlgvvQuah",
        "colab_type": "code",
        "colab": {
          "base_uri": "https://localhost:8080/",
          "height": 465
        },
        "outputId": "84c8e36c-9084-46e8-abed-42fe5398cc11"
      },
      "cell_type": "code",
      "source": [
        "import matplotlib.pyplot as plt\n",
        "drawtest()"
      ],
      "execution_count": 66,
      "outputs": [
        {
          "output_type": "display_data",
          "data": {
            "image/png": "[encoded data removed]",
            "text/plain": [
              "<Figure size 800x500 with 1 Axes>"
            ]
          },
          "metadata": {
            "tags": []
          }
        }
      ]
    }
  ]
}