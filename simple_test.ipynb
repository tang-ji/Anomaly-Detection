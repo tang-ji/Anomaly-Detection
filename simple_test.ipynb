{
 "cells": [
  {
   "cell_type": "code",
   "execution_count": 1,
   "metadata": {},
   "outputs": [],
   "source": [
    "import numpy as np\n",
    "import pandas as pd\n",
    "from sklearn.preprocessing import MinMaxScaler"
   ]
  },
  {
   "cell_type": "code",
   "execution_count": 2,
   "metadata": {},
   "outputs": [
    {
     "name": "stdout",
     "output_type": "stream",
     "text": [
      "(4218, 2283)\n"
     ]
    }
   ],
   "source": [
    "# this for the sake of helping the student\n",
    "\n",
    "# benchmark_userclicks_7_18_10000_1000000_batch146_15_.csv\n",
    "\n",
    "# remove feature 0 which is the time stamp\n",
    "t = pd.read_csv('benchmark_userclicks_7_18_10000_1000000_batch146_15_.csv').iloc[:, 1:]\n",
    "# cpu contention\n",
    "# anomaly period: 1778 - 2378\n",
    "\n",
    "print (t.shape)"
   ]
  },
  {
   "cell_type": "code",
   "execution_count": 9,
   "metadata": {},
   "outputs": [
    {
     "name": "stdout",
     "output_type": "stream",
     "text": [
      "(4218, 2283)\n"
     ]
    }
   ],
   "source": [
    "# clean data format\n",
    "df = t.fillna(value = 0)\n",
    "\n",
    "# normalization\n",
    "scaler = MinMaxScaler()\n",
    "df = scaler.fit_transform(df)\n",
    "df = pd.DataFrame(df)\n",
    "#train.to_csv('demo_train', index=False)\n",
    "print (df.shape)"
   ]
  },
  {
   "cell_type": "code",
   "execution_count": 11,
   "metadata": {},
   "outputs": [
    {
     "name": "stdout",
     "output_type": "stream",
     "text": [
      "(3018, 2283)\n",
      "(1200, 2283)\n"
     ]
    }
   ],
   "source": [
    "train = pd.concat([df[0:1779], df[2979:]])\n",
    "test = df[1779:2979]\n",
    "\n",
    "print (train.shape)\n",
    "print (test.shape)"
   ]
  },
  {
   "cell_type": "code",
   "execution_count": 12,
   "metadata": {},
   "outputs": [
    {
     "name": "stderr",
     "output_type": "stream",
     "text": [
      "/Users/feisong/anaconda3/lib/python3.6/site-packages/h5py/__init__.py:36: FutureWarning: Conversion of the second argument of issubdtype from `float` to `np.floating` is deprecated. In future, it will be treated as `np.float64 == np.dtype(float).type`.\n",
      "  from ._conv import register_converters as _register_converters\n",
      "Using TensorFlow backend.\n"
     ]
    },
    {
     "name": "stdout",
     "output_type": "stream",
     "text": [
      "Train on 3018 samples, validate on 100 samples\n",
      "Epoch 1/10\n",
      "3018/3018 [==============================] - 0s 164us/step - loss: 0.1882 - val_loss: 0.0408\n",
      "Epoch 2/10\n",
      "3018/3018 [==============================] - 0s 118us/step - loss: 0.0271 - val_loss: 0.0264\n",
      "Epoch 3/10\n",
      "3018/3018 [==============================] - 0s 118us/step - loss: 0.0228 - val_loss: 0.0282\n",
      "Epoch 4/10\n",
      "3018/3018 [==============================] - 0s 118us/step - loss: 0.0237 - val_loss: 0.0276\n",
      "Epoch 5/10\n",
      "3018/3018 [==============================] - 0s 112us/step - loss: 0.0231 - val_loss: 0.0272\n",
      "Epoch 6/10\n",
      "3018/3018 [==============================] - 0s 102us/step - loss: 0.0241 - val_loss: 0.0283\n",
      "Epoch 7/10\n",
      "3018/3018 [==============================] - 0s 101us/step - loss: 0.0229 - val_loss: 0.0310\n",
      "Epoch 8/10\n",
      "3018/3018 [==============================] - 0s 88us/step - loss: 0.0224 - val_loss: 0.0278\n",
      "Epoch 9/10\n",
      "3018/3018 [==============================] - 0s 99us/step - loss: 0.0238 - val_loss: 0.0320\n",
      "Epoch 10/10\n",
      "3018/3018 [==============================] - 0s 97us/step - loss: 0.0221 - val_loss: 0.0292\n"
     ]
    }
   ],
   "source": [
    "from keras.layers import Input, Dense\n",
    "from keras.models import Model\n",
    "from keras import backend as K\n",
    "\n",
    "# construct a very simple auto-encoder\n",
    "input_data = Input(shape=(train.shape[1],))\n",
    "encoded = Dense(100, activation='relu')(input_data)\n",
    "decoded = Dense(train.shape[1], activation='linear')(encoded)\n",
    "\n",
    "autoencoder = Model(input_data, decoded)\n",
    "autoencoder.compile(optimizer='rmsprop', loss='mse')\n",
    "\n",
    "# train\n",
    "autoencoder.fit(train, train,\n",
    "                epochs=10,\n",
    "                batch_size=256,\n",
    "                shuffle=True,\n",
    "                validation_data=(train[:100], train[:100]))\n",
    "\n",
    "# save model\n",
    "from keras.models import load_model\n",
    "autoencoder.save('ae.h5')  # creates a HDF5 file 'my_model.h5'"
   ]
  },
  {
   "cell_type": "code",
   "execution_count": 15,
   "metadata": {},
   "outputs": [
    {
     "name": "stdout",
     "output_type": "stream",
     "text": [
      "[0.19060907]\n",
      "[0.18664826]\n",
      "[0.18914793]\n",
      "[0.17566666]\n",
      "[0.23254685]\n",
      "[0.19396225]\n",
      "[0.19320452]\n",
      "[0.20625384]\n",
      "[0.21286654]\n",
      "[0.27553089]\n"
     ]
    }
   ],
   "source": [
    "# do prediction on test set\n",
    "\n",
    "test_result = autoencoder.predict(test)\n",
    "\n",
    "# calculate the test error\n",
    "def recons_error(input_set, recons):\n",
    "    dif = input_set - recons\n",
    "    dif = np.power(dif, 2)\n",
    "    return np.mean(dif, axis=1)\n",
    "\n",
    "reconstruction_error = recons_error(test_result, test)\n",
    "\n",
    "# scale to 0-1, probability\n",
    "ae = pd.DataFrame(np.array(reconstruction_error))\n",
    "scaler_ae = MinMaxScaler()\n",
    "ae = scaler_ae.fit_transform(ae)\n",
    "\n",
    "for i in range(10, 20):\n",
    "    print (ae[i])"
   ]
  },
  {
   "cell_type": "code",
   "execution_count": 18,
   "metadata": {},
   "outputs": [],
   "source": [
    "# true labels\n",
    "\n",
    "labels = np.ndarray(shape=test.shape[0], dtype=int)\n",
    "\n",
    "for i in range(len(labels)):\n",
    "    if i < 600:\n",
    "        labels[i] = 1\n",
    "    else:\n",
    "        labels[i] = 0"
   ]
  },
  {
   "cell_type": "code",
   "execution_count": 20,
   "metadata": {},
   "outputs": [
    {
     "ename": "IndexError",
     "evalue": "too many indices for array",
     "output_type": "error",
     "traceback": [
      "\u001b[0;31m---------------------------------------------------------------------------\u001b[0m",
      "\u001b[0;31mIndexError\u001b[0m                                Traceback (most recent call last)",
      "\u001b[0;32m<ipython-input-20-b0f83de25d1c>\u001b[0m in \u001b[0;36m<module>\u001b[0;34m()\u001b[0m\n\u001b[1;32m      6\u001b[0m \u001b[0;34m\u001b[0m\u001b[0m\n\u001b[1;32m      7\u001b[0m \u001b[0mprecision\u001b[0m\u001b[0;34m,\u001b[0m \u001b[0mrecall\u001b[0m\u001b[0;34m,\u001b[0m \u001b[0m_\u001b[0m \u001b[0;34m=\u001b[0m \u001b[0mprecision_recall_curve\u001b[0m\u001b[0;34m(\u001b[0m\u001b[0mlabels\u001b[0m\u001b[0;34m,\u001b[0m \u001b[0mae\u001b[0m\u001b[0;34m)\u001b[0m\u001b[0;34m\u001b[0m\u001b[0m\n\u001b[0;32m----> 8\u001b[0;31m \u001b[0maverage_precision\u001b[0m \u001b[0;34m=\u001b[0m \u001b[0maverage_precision_score\u001b[0m\u001b[0;34m(\u001b[0m\u001b[0mlabels\u001b[0m\u001b[0;34m[\u001b[0m\u001b[0;34m:\u001b[0m\u001b[0;34m,\u001b[0m\u001b[0;36m1\u001b[0m\u001b[0;34m]\u001b[0m\u001b[0;34m,\u001b[0m \u001b[0mae\u001b[0m\u001b[0;34m)\u001b[0m\u001b[0;34m\u001b[0m\u001b[0m\n\u001b[0m\u001b[1;32m      9\u001b[0m \u001b[0mplt\u001b[0m\u001b[0;34m.\u001b[0m\u001b[0mstep\u001b[0m\u001b[0;34m(\u001b[0m\u001b[0mrecall\u001b[0m\u001b[0;34m,\u001b[0m \u001b[0mprecision\u001b[0m\u001b[0;34m,\u001b[0m \u001b[0malpha\u001b[0m\u001b[0;34m=\u001b[0m\u001b[0;36m0.5\u001b[0m\u001b[0;34m,\u001b[0m \u001b[0mwhere\u001b[0m\u001b[0;34m=\u001b[0m\u001b[0;34m'post'\u001b[0m\u001b[0;34m,\u001b[0m \u001b[0mcolor\u001b[0m\u001b[0;34m=\u001b[0m\u001b[0;34m'g'\u001b[0m\u001b[0;34m)\u001b[0m\u001b[0;34m\u001b[0m\u001b[0m\n\u001b[1;32m     10\u001b[0m \u001b[0mplt\u001b[0m\u001b[0;34m.\u001b[0m\u001b[0mfill_between\u001b[0m\u001b[0;34m(\u001b[0m\u001b[0mrecall\u001b[0m\u001b[0;34m,\u001b[0m \u001b[0mprecision\u001b[0m\u001b[0;34m,\u001b[0m \u001b[0mstep\u001b[0m\u001b[0;34m=\u001b[0m\u001b[0;34m'post'\u001b[0m\u001b[0;34m,\u001b[0m \u001b[0malpha\u001b[0m\u001b[0;34m=\u001b[0m\u001b[0;36m0.1\u001b[0m\u001b[0;34m,\u001b[0m \u001b[0mcolor\u001b[0m\u001b[0;34m=\u001b[0m\u001b[0;34m'g'\u001b[0m\u001b[0;34m,\u001b[0m \u001b[0mlabel\u001b[0m\u001b[0;34m=\u001b[0m\u001b[0;34m(\u001b[0m\u001b[0;34m\"%s : %3.2f\"\u001b[0m \u001b[0;34m%\u001b[0m \u001b[0;34m(\u001b[0m\u001b[0;34m'ae'\u001b[0m\u001b[0;34m,\u001b[0m\u001b[0maverage_precision\u001b[0m\u001b[0;34m)\u001b[0m\u001b[0;34m)\u001b[0m\u001b[0;34m)\u001b[0m\u001b[0;34m\u001b[0m\u001b[0m\n",
      "\u001b[0;31mIndexError\u001b[0m: too many indices for array"
     ]
    }
   ],
   "source": [
    "# see the performance: \n",
    "\n",
    "from sklearn.metrics import precision_recall_curve\n",
    "from sklearn.metrics import average_precision_score\n",
    "import matplotlib.pyplot as plt\n",
    "\n",
    "precision, recall, _ = precision_recall_curve(labels, ae)\n",
    "average_precision = average_precision_score(labels, ae)\n",
    "plt.step(recall, precision, alpha=0.5, where='post', color='g')\n",
    "plt.fill_between(recall, precision, step='post', alpha=0.1, color='g', label=(\"%s : %3.2f\" % ('ae',average_precision)))\n",
    "plt.xlabel('Recall')\n",
    "plt.ylabel('Precision')\n",
    "plt.ylim([0.0, 1.05])\n",
    "plt.xlim([0.0, 1.0])\n",
    "plt.savefig('auto_encoder.pdf')"
   ]
  }
 ],
 "metadata": {
  "kernelspec": {
   "display_name": "Python 3",
   "language": "python",
   "name": "python3"
  },
  "language_info": {
   "codemirror_mode": {
    "name": "ipython",
    "version": 3
   },
   "file_extension": ".py",
   "mimetype": "text/x-python",
   "name": "python",
   "nbconvert_exporter": "python",
   "pygments_lexer": "ipython3",
   "version": "3.6.5"
  }
 },
 "nbformat": 4,
 "nbformat_minor": 2
}
